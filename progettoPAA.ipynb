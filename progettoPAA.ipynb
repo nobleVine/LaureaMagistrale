{
 "cells": [
  {
   "cell_type": "markdown",
   "metadata": {
    "collapsed": true
   },
   "source": [
    "# Autori \n",
    "        "
   ]
  },
  {
   "cell_type": "markdown",
   "metadata": {},
   "source": [
    "Marco Vignini 6222137 marco.vignin@stud.unifi"
   ]
  },
  {
   "cell_type": "markdown",
   "metadata": {},
   "source": [
    "Lorenzo Marino 6209034 lorenzo.marino@stud.unifi.it"
   ]
  },
  {
   "cell_type": "markdown",
   "metadata": {},
   "source": [
    "# Chocolate Numbers\n",
    "Questo notebook presenta un gioco svolto su una tavoletta rettangolare di cioccolata $m$ $\\times$ $n$, dove $m$ è il numero delle righe in cui è divisa la tavoletta stessa ed $n$ il numero di colonne. Il gioco è strutturato in turni e consiste nella rottura della tavoletta da parte dei giocatori, secondo una linea verticale della griglia in cui è strutturata la tavoletta oppure orizzontale (può essere effettuata una rottura a turno). Il gioco continua fino a che non vengono ottenuti singoli quadratini di cioccolata e quindi finisce nel momento in cui uno dei due giocatori non può fare più rotture, perdendo così la partita. Possiamo affermare che il numero di rotture non dipende dal modo in cui vengono effettuate ma sono predeterminate. Nel notebook sono presenti la verifica delle relazioni di ricorrenza contenute nell'articolo [Chocolate Numbers][cn] e la simulazione del calcolo dei Chocolate Numbers che verranno presentati a breve. Inoltre le simulazioni numeriche hanno riguardato tanti teoremi, corollari e dimostrazioni contenute nell'articolo.\n",
    "[cn]:https://cs.uwaterloo.ca/journals/JIS/VOL19/Khovanova/khova9.pdf"
   ]
  },
  {
   "cell_type": "markdown",
   "metadata": {},
   "source": [
    "<b><font size = 3> Lemma: </font></b> In una griglia $m$ $\\times$ $n$, il numero di rotture necessarie per ottenere $m$ $\\times$ $n$ quadratini di cioccolata sono $m$ $\\times$ $n$ $-$ $1$."
   ]
  },
  {
   "cell_type": "markdown",
   "metadata": {},
   "source": [
    "<b><font size = 3> Dimostrazione: </font></b> Ogni rottura provoca l'aumento di pezzi in cui è divisa la tavoletta di $1$, quindi iniziando con un pezzo unico e finendo con $m$ $\\times$ $n$ quadratini le rotture effettuate sono esattamente $m$ $\\times$ $n$ $-$ $1$."
   ]
  },
  {
   "cell_type": "markdown",
   "metadata": {},
   "source": [
    "Per prima cosa andiamo ad importare alcuni pacchetti che ci saranno utili per il resto del notebook:"
   ]
  },
  {
   "cell_type": "code",
   "execution_count": 1,
   "metadata": {
    "collapsed": true
   },
   "outputs": [],
   "source": [
    "from sympy import *\n",
    "from sympy.utilities.lambdify import lambdify, implemented_function\n",
    "from IPython.display import HTML\n",
    "\n",
    "init_printing()"
   ]
  },
  {
   "cell_type": "markdown",
   "metadata": {},
   "source": [
    "I Chocolate Numbers non sono altro che i possibili modi per rompere la nostra tavoletta. Tali numeri sono rappresentati dalla seguente formula di ricorrenza: \n",
    "\n",
    "$$ A_{m,n}=\\sum_{i=1}^{m-1} \\binom{mn-2}{in-1} A_{i,n}A_{m-i, n} + \\sum_{i=1}^{n-1} \\binom{mn-2}{im-1}A_{m,i}A_{m, n-i}$$ \n",
    "\n",
    "Possiamo implementare una funzione che calcola tutti i Chocolate Numbers fino a $A_{m,n}$, con m e n dimensioni della tavoletta: \n",
    "\n"
   ]
  },
  {
   "cell_type": "code",
   "execution_count": 2,
   "metadata": {
    "collapsed": true
   },
   "outputs": [],
   "source": [
    "def ChocNum(m, n):\n",
    "    A = zeros(m+1, n+1)\n",
    "    A[1,1] = 1\n",
    "    y = 1\n",
    "    t = 2\n",
    "    _sum = 0\n",
    "    sum1 = 0\n",
    "    sum2 = 0\n",
    "    inizioT = 2\n",
    "    flagInizioColonne = False\n",
    "    for y in range(1, m+1):\n",
    "        for t in range(inizioT, n+1):\n",
    "            sum1 = sum(binomial(y*t-2, i*t-1)*A[i, t]*A[y-i, t] for i in range(1, y))\n",
    "            sum2 = sum(binomial(y*t-2, j*y-1)*A[y, j]*A[y, t-j] for j in range(1, t))\n",
    "            _sum = sum1 + sum2\n",
    "            sum1 = 0\n",
    "            sum2 = 0\n",
    "            A[y, t] = _sum\n",
    "        if flagInizioColonne == False:\n",
    "            inizioT = inizioT - 1\n",
    "            flagInizioColonne = True\n",
    "    return A"
   ]
  },
  {
   "cell_type": "code",
   "execution_count": 3,
   "metadata": {
    "collapsed": true
   },
   "outputs": [],
   "source": [
    "def StampaA(): # Funzione per evitare la stampa degli 0 sulle righe e sulle colonne.\n",
    "    return A[1:,1:]    "
   ]
  },
  {
   "cell_type": "markdown",
   "metadata": {},
   "source": [
    "Abbiamo implementato una funzione chiamata $ChocNum(m, n)$ che prende in input le dimensioni della tavoletta di cioccolata della quale vogliamo sapere tutti i numeri di cioccolata per tutte le sue sotto-tavolette fino a $ {A}_{m,n} $. La funzione implementata popola una matrice con i Chocolate Numbers i cui indici di riga e di colonna corrispondono ad m e ad n, questo a scopo di maggiore leggibilità e praticità. Si ha quindi che la prima riga e la prima colonna risulteranno vuote. La matrice contenente i numeri di cioccolato viene riempita per righe, calcolando quindi $ {A}_{1,2} $, $ {A}_{1,3} $, ..., $ {A}_{1,n} $ poi $ {A}_{2,1} $, $ {A}_{2,2} $, ...,$ {A}_{2,n} $ quindi arrivando a calcolare $ {A}_{m,1} $, $ {A}_{m,2} $, ..., $ {A}_{m,n} $. La definizione sarà fondamentale nelle verifiche che verranno fatte successivamente nel notebook. Viene utilizzata la funzione $zeros()$ per inizializzare una matrice di zeri, con dimensione ($m+1$) $\\times$ ($n+1$), poi viene inizializzato il caso base $A[1,1]=1$ dato che la formula di ricorrenza utilizza valori antecedenti a quello che calcola nell'iterazione corrente. "
   ]
  },
  {
   "cell_type": "code",
   "execution_count": 4,
   "metadata": {
    "collapsed": false
   },
   "outputs": [
    {
     "data": {
      "text/latex": [
       "$$\\left[\\begin{matrix}1 & 1 & 2 & 6 & 24\\\\1 & 4 & 56 & 1712 & 92800\\\\2 & 56 & 9408 & 4948992 & 6085088256\\\\6 & 1712 & 4948992 & 63352393728 & 2472100837326848\\\\24 & 92800 & 6085088256 & 2472100837326848 & 3947339798331748515840\\end{matrix}\\right]$$"
      ],
      "text/plain": [
       "⎡1     1        2              6                    24          ⎤\n",
       "⎢                                                               ⎥\n",
       "⎢1     4        56            1712                92800         ⎥\n",
       "⎢                                                               ⎥\n",
       "⎢2    56       9408         4948992             6085088256      ⎥\n",
       "⎢                                                               ⎥\n",
       "⎢6   1712    4948992      63352393728        2472100837326848   ⎥\n",
       "⎢                                                               ⎥\n",
       "⎣24  92800  6085088256  2472100837326848  3947339798331748515840⎦"
      ]
     },
     "execution_count": 4,
     "metadata": {},
     "output_type": "execute_result"
    }
   ],
   "source": [
    "A = ChocNum(5,5)     \n",
    "StampaA()"
   ]
  },
  {
   "cell_type": "markdown",
   "metadata": {},
   "source": [
    "Inoltre abbiamo implementato una versione simbolica della matrice che contiene le espressioni simboliche dei Chocolate Numbers fino all' $m$ $\\times$ $n$ -esimo che ci sarà utile per alcune verifiche simboliche successive. Quindi definiamo una funzione che implementa il modello simbolico della matrice:"
   ]
  },
  {
   "cell_type": "code",
   "execution_count": 5,
   "metadata": {
    "collapsed": true
   },
   "outputs": [],
   "source": [
    "def MatriceSimbolica(r, c):\n",
    "    i, m, n = symbols('i, m, n')\n",
    "    A = MatrixSymbol('A', r, c)\n",
    "    A = FunctionMatrix(r, c, Lambda((m,n), Sum(binomial(m*n-2, i*n-1)*A[i,n]*A[m-i, n],(i, 1, m-1)) + Sum(binomial(m*n-2, i*m-1)*A[m,i]*A[m, n-i],(i,1,n-1))))\n",
    "    return A"
   ]
  },
  {
   "cell_type": "markdown",
   "metadata": {},
   "source": [
    "Mostriamo un esempio della matrice simbolica appena implementata:"
   ]
  },
  {
   "cell_type": "code",
   "execution_count": 6,
   "metadata": {
    "collapsed": false
   },
   "outputs": [
    {
     "data": {
      "text/latex": [
       "$$\\left[\\begin{matrix}0 & A_{1, 1}^{2} & A_{1, 1} A_{1, 2} + A_{1, 2} A_{1, 1} & A_{1, 1} A_{1, 3} + 2 A_{1, 2}^{2} + A_{1, 3} A_{1, 1}\\\\A_{1, 1}^{2} & 2 A_{1, 2}^{2} + 2 A_{2, 1}^{2} & 6 A_{1, 3}^{2} + 4 A_{2, 1} A_{2, 2} + 4 A_{2, 2} A_{2, 1} & 20 A_{1, 4}^{2} + 6 A_{2, 1} A_{2, 3} + 20 A_{2, 2}^{2} + 6 A_{2, 3} A_{2, 1}\\end{matrix}\\right]$$"
      ],
      "text/plain": [
       "⎡              2                                                              \n",
       "⎢ 0         A₁₁               A₁₁⋅A₁₂ + A₁₂⋅A₁₁                A₁₁⋅A₁₃ + 2⋅A₁₂\n",
       "⎢                                                                             \n",
       "⎢   2       2        2       2                                2               \n",
       "⎣A₁₁   2⋅A₁₂  + 2⋅A₂₁   6⋅A₁₃  + 4⋅A₂₁⋅A₂₂ + 4⋅A₂₂⋅A₂₁  20⋅A₁₄  + 6⋅A₂₁⋅A₂₃ + \n",
       "\n",
       "2                  ⎤\n",
       "  + A₁₃⋅A₁₁        ⎥\n",
       "                   ⎥\n",
       "      2            ⎥\n",
       "20⋅A₂₂  + 6⋅A₂₃⋅A₂₁⎦"
      ]
     },
     "execution_count": 6,
     "metadata": {},
     "output_type": "execute_result"
    }
   ],
   "source": [
    "A = MatriceSimbolica(3,5)\n",
    "Matrix(A[1:,1:]).doit()"
   ]
  },
  {
   "cell_type": "markdown",
   "metadata": {},
   "source": [
    "<b><font size = 4> Corollario 3 </font></b> $$ {A}_{1,n} = {A}_{n,1} = (n-1)!$$"
   ]
  },
  {
   "cell_type": "markdown",
   "metadata": {},
   "source": [
    "Verifichiamo numericamente questo corollario utilizzando un frammento di codice:"
   ]
  },
  {
   "cell_type": "code",
   "execution_count": 7,
   "metadata": {
    "collapsed": false
   },
   "outputs": [
    {
     "data": {
      "image/png": "[encoded data removed]",
      "text/latex": [
       "$$\\left [ 1, \\quad 1, \\quad 2, \\quad 6, \\quad 24, \\quad 120, \\quad 720, \\quad 5040, \\quad 40320, \\quad 362880, \\quad 3628800, \\quad 39916800, \\quad 479001600, \\quad 6227020800\\right ]$$"
      ],
      "text/plain": [
       "[1, 1, 2, 6, 24, 120, 720, 5040, 40320, 362880, 3628800, 39916800, 479001600, \n",
       "6227020800]"
      ]
     },
     "execution_count": 7,
     "metadata": {},
     "output_type": "execute_result"
    }
   ],
   "source": [
    "[factorial(i-1) for i in range(1,15)]"
   ]
  },
  {
   "cell_type": "code",
   "execution_count": 8,
   "metadata": {
    "collapsed": false
   },
   "outputs": [
    {
     "data": {
      "image/png": "[encoded data removed]",
      "text/latex": [
       "$$\\left [ 1, \\quad 1, \\quad 2, \\quad 6, \\quad 24, \\quad 120, \\quad 720, \\quad 5040, \\quad 40320, \\quad 362880, \\quad 3628800, \\quad 39916800, \\quad 479001600, \\quad 6227020800\\right ]$$"
      ],
      "text/plain": [
       "[1, 1, 2, 6, 24, 120, 720, 5040, 40320, 362880, 3628800, 39916800, 479001600, \n",
       "6227020800]"
      ]
     },
     "execution_count": 8,
     "metadata": {},
     "output_type": "execute_result"
    }
   ],
   "source": [
    "A = ChocNum(1, 14)\n",
    "var = StampaA()\n",
    "lvar = len(var)\n",
    "[var[v] for v in range(lvar)]"
   ]
  },
  {
   "cell_type": "markdown",
   "metadata": {},
   "source": [
    "Sottraendo i valori delle due liste otteniamo $0$ e dimostriamo la tesi:"
   ]
  },
  {
   "cell_type": "code",
   "execution_count": 9,
   "metadata": {
    "collapsed": false
   },
   "outputs": [
    {
     "data": {
      "image/png": "[encoded data removed]",
      "text/latex": [
       "$$\\left [ \\left ( 0, \\quad 0\\right ), \\quad \\left ( 1, \\quad 0\\right ), \\quad \\left ( 2, \\quad 0\\right ), \\quad \\left ( 3, \\quad 0\\right ), \\quad \\left ( 4, \\quad 0\\right ), \\quad \\left ( 5, \\quad 0\\right ), \\quad \\left ( 6, \\quad 0\\right ), \\quad \\left ( 7, \\quad 0\\right ), \\quad \\left ( 8, \\quad 0\\right ), \\quad \\left ( 9, \\quad 0\\right ), \\quad \\left ( 10, \\quad 0\\right ), \\quad \\left ( 11, \\quad 0\\right ), \\quad \\left ( 12, \\quad 0\\right ), \\quad \\left ( 13, \\quad 0\\right )\\right ]$$"
      ],
      "text/plain": [
       "[(0, 0), (1, 0), (2, 0), (3, 0), (4, 0), (5, 0), (6, 0), (7, 0), (8, 0), (9, 0\n",
       "), (10, 0), (11, 0), (12, 0), (13, 0)]"
      ]
     },
     "execution_count": 9,
     "metadata": {},
     "output_type": "execute_result"
    }
   ],
   "source": [
    "[(v, factorial(v) - var[v]) for v in range(0, 14)]"
   ]
  },
  {
   "cell_type": "markdown",
   "metadata": {},
   "source": [
    "<b><font size = 4> Corollario 4 </font></b> $$ A_{m,n} = A_{n,m} $$"
   ]
  },
  {
   "cell_type": "markdown",
   "metadata": {},
   "source": [
    "Verifichiamo simbolicamente il corollario 4, sfruttando il fatto che se una matrice è uguale alla sua trasposta allora è simmetrica:"
   ]
  },
  {
   "cell_type": "code",
   "execution_count": 10,
   "metadata": {
    "collapsed": false
   },
   "outputs": [
    {
     "data": {
      "text/latex": [
       "$$\\left[\\begin{matrix}0 & A_{1, 1}^{2}\\\\A_{1, 1}^{2} & 2 A_{1, 2}^{2} + 2 A_{2, 1}^{2}\\\\A_{1, 1} A_{1, 2} + A_{1, 2} A_{1, 1} & 6 A_{1, 3}^{2} + 4 A_{2, 1} A_{2, 2} + 4 A_{2, 2} A_{2, 1}\\\\A_{1, 1} A_{1, 3} + 2 A_{1, 2}^{2} + A_{1, 3} A_{1, 1} & 20 A_{1, 4}^{2} + 6 A_{2, 1} A_{2, 3} + 20 A_{2, 2}^{2} + 6 A_{2, 3} A_{2, 1}\\end{matrix}\\right]$$"
      ],
      "text/plain": [
       "⎡                                                 2                   ⎤\n",
       "⎢            0                                 A₁₁                    ⎥\n",
       "⎢                                                                     ⎥\n",
       "⎢              2                               2        2             ⎥\n",
       "⎢           A₁₁                           2⋅A₁₂  + 2⋅A₂₁              ⎥\n",
       "⎢                                                                     ⎥\n",
       "⎢                                      2                              ⎥\n",
       "⎢    A₁₁⋅A₁₂ + A₁₂⋅A₁₁            6⋅A₁₃  + 4⋅A₂₁⋅A₂₂ + 4⋅A₂₂⋅A₂₁      ⎥\n",
       "⎢                                                                     ⎥\n",
       "⎢               2                  2                     2            ⎥\n",
       "⎣A₁₁⋅A₁₃ + 2⋅A₁₂  + A₁₃⋅A₁₁  20⋅A₁₄  + 6⋅A₂₁⋅A₂₃ + 20⋅A₂₂  + 6⋅A₂₃⋅A₂₁⎦"
      ]
     },
     "execution_count": 10,
     "metadata": {},
     "output_type": "execute_result"
    }
   ],
   "source": [
    "A = MatriceSimbolica(3,5)\n",
    "At = Transpose(A)\n",
    "Matrix(At[1:,1:]).doit()"
   ]
  },
  {
   "cell_type": "markdown",
   "metadata": {},
   "source": [
    "Di seguito confrontiamo le espressioni simboliche presenti nelle righe della prima matrice con quelle delle colonne presenti nella seconda: visto che risultano uguali la matrice è simmetrica ed il corollario $4$ è dimostrato."
   ]
  },
  {
   "cell_type": "code",
   "execution_count": 11,
   "metadata": {
    "collapsed": false
   },
   "outputs": [
    {
     "data": {
      "text/plain": [
       "[True, True, True, True, True, True, True, True]"
      ]
     },
     "execution_count": 11,
     "metadata": {},
     "output_type": "execute_result"
    }
   ],
   "source": [
    "r = 3\n",
    "c = 5\n",
    "Lris = []\n",
    "\n",
    "for i in range(1, r):\n",
    "    for j in range(1,c):\n",
    "        if A[i,j] == At[j,i]:\n",
    "            Lris.append(True)\n",
    "        else:\n",
    "            Lris.append(False)\n",
    "            \n",
    "Lris"
   ]
  },
  {
   "cell_type": "markdown",
   "metadata": {},
   "source": [
    "# Sequenze particolari di Chocolate Numbers"
   ]
  },
  {
   "cell_type": "markdown",
   "metadata": {},
   "source": [
    "Chocolate-$2$ Numbers ($B_{n} = A_{2,n}$): sequenza di Chocolate Numbers con dimensione delle tavolette di cioccolato $2\\times n$."
   ]
  },
  {
   "cell_type": "code",
   "execution_count": 12,
   "metadata": {
    "collapsed": false
   },
   "outputs": [
    {
     "data": {
      "text/latex": [
       "$$\\left[\\begin{array}{ccccccccccc}1 & 4 & 56 & 1712 & 92800 & 7918592 & 984237056 & 168662855680 & 38238313152512 & 11106033743298560 & 4026844843819663360\\end{array}\\right]$$"
      ],
      "text/plain": [
       "[1  4  56  1712  92800  7918592  984237056  168662855680  38238313152512  1110\n",
       "6033743298560  4026844843819663360]"
      ]
     },
     "execution_count": 12,
     "metadata": {},
     "output_type": "execute_result"
    }
   ],
   "source": [
    "#Esempio della sequenza di Chocolate 2-Numbers...\n",
    "A = ChocNum(2, 11)\n",
    "A[2:, 1:]"
   ]
  },
  {
   "cell_type": "markdown",
   "metadata": {},
   "source": [
    "Chocolate Square Numbers ($A_{n,n}$): sequenza di Chocolate Numbers con dimensione delle tavolette di cioccolato $n\\times n$."
   ]
  },
  {
   "cell_type": "code",
   "execution_count": 13,
   "metadata": {
    "collapsed": false
   },
   "outputs": [
    {
     "data": {
      "image/png": "[encoded data removed]",
      "text/latex": [
       "$$\\left [ 1, \\quad 4, \\quad 9408, \\quad 63352393728, \\quad 3947339798331748515840, \\quad 5732998662938820430255187886059028480\\right ]$$"
      ],
      "text/plain": [
       "[1, 4, 9408, 63352393728, 3947339798331748515840, 5732998662938820430255187886\n",
       "059028480]"
      ]
     },
     "execution_count": 13,
     "metadata": {},
     "output_type": "execute_result"
    }
   ],
   "source": [
    "#Esempio della sequenza di Chocolate Square Numbers...\n",
    "m = 7\n",
    "n = 7\n",
    "A = ChocNum(m, n)\n",
    "[A[i, i] for i in range(1,n)]"
   ]
  },
  {
   "cell_type": "markdown",
   "metadata": {},
   "source": [
    "Chocolate Triangle Numbers: sequenza di Chocolate Numbers visti come un triangolo e ordinati per righe."
   ]
  },
  {
   "cell_type": "code",
   "execution_count": 14,
   "metadata": {
    "collapsed": false
   },
   "outputs": [
    {
     "data": {
      "text/latex": [
       "$$\\left[\\begin{matrix}0 & 0 & 0 & 0 & 0 & 0 & 0 & 0 & 0\\\\1 & 0 & 0 & 0 & 0 & 0 & 0 & 0 & 0\\\\1 & 1 & 0 & 0 & 0 & 0 & 0 & 0 & 0\\\\2 & 4 & 2 & 0 & 0 & 0 & 0 & 0 & 0\\\\6 & 56 & 56 & 6 & 0 & 0 & 0 & 0 & 0\\\\24 & 1712 & 9408 & 1712 & 24 & 0 & 0 & 0 & 0\\\\120 & 92800 & 4948992 & 4948992 & 92800 & 120 & 0 & 0 & 0\\\\720 & 7918592 & 6085088256 & 63352393728 & 6085088256 & 7918592 & 720 & 0 & 0\\\\5040 & 984237056 & 14782316470272 & 2472100837326848 & 2472100837326848 & 14782316470272 & 984237056 & 5040 & 0\\end{matrix}\\right]$$"
      ],
      "text/plain": [
       "⎡ 0        0            0                0                 0                0 \n",
       "⎢                                                                             \n",
       "⎢ 1        0            0                0                 0                0 \n",
       "⎢                                                                             \n",
       "⎢ 1        1            0                0                 0                0 \n",
       "⎢                                                                             \n",
       "⎢ 2        4            2                0                 0                0 \n",
       "⎢                                                                             \n",
       "⎢ 6       56            56               6                 0                0 \n",
       "⎢                                                                             \n",
       "⎢ 24     1712          9408             1712               24               0 \n",
       "⎢                                                                             \n",
       "⎢120     92800       4948992          4948992            92800             120\n",
       "⎢                                                                             \n",
       "⎢720    7918592     6085088256      63352393728        6085088256        79185\n",
       "⎢                                                                             \n",
       "⎣5040  984237056  14782316470272  2472100837326848  2472100837326848  14782316\n",
       "\n",
       "            0       0    0⎤\n",
       "                          ⎥\n",
       "            0       0    0⎥\n",
       "                          ⎥\n",
       "            0       0    0⎥\n",
       "                          ⎥\n",
       "            0       0    0⎥\n",
       "                          ⎥\n",
       "            0       0    0⎥\n",
       "                          ⎥\n",
       "            0       0    0⎥\n",
       "                          ⎥\n",
       "            0       0    0⎥\n",
       "                          ⎥\n",
       "92         720      0    0⎥\n",
       "                          ⎥\n",
       "470272  984237056  5040  0⎦"
      ]
     },
     "execution_count": 14,
     "metadata": {},
     "output_type": "execute_result"
    }
   ],
   "source": [
    "#Esempio della sequenza di Chocolate Triangle Numbers...\n",
    "m = 9\n",
    "n = 9\n",
    "A = ChocNum(m,n)\n",
    "AT = zeros(m+1,n+1)\n",
    "init = 0\n",
    "\n",
    "for j in range(1, n+1):\n",
    "    init = init + 1\n",
    "    for i in range(init, m+1):\n",
    "        AT[i, j] = A[i-j,j]\n",
    "               \n",
    "AT[1:, 1:]"
   ]
  },
  {
   "cell_type": "markdown",
   "metadata": {},
   "source": [
    "<b><font size = 4> Teorema 5 </font></b> <center>Se $m,n > 1$, allora $v_2(A_{m, n}) \\geq m + n - 2$.</center>"
   ]
  },
  {
   "cell_type": "markdown",
   "metadata": {},
   "source": [
    "Possiamo verificare questo teorema con degli esempi, ma prima vediamo come implementare la funzione $v_{2}()$ che rappresenta il 2-adic number, ovvero la più alta potenza di due che divide n."
   ]
  },
  {
   "cell_type": "code",
   "execution_count": 15,
   "metadata": {
    "collapsed": false
   },
   "outputs": [],
   "source": [
    "def v2(numero):\n",
    "    n2Adic = 0\n",
    "    while numero % 2 == 0:\n",
    "        n2Adic = n2Adic + 1\n",
    "        numero //= 2\n",
    "    return n2Adic       "
   ]
  },
  {
   "cell_type": "markdown",
   "metadata": {},
   "source": [
    "Adesso abbiamo gli strumenti per verificare il Teorema 5. Prendiamo in considerazione i numeri di cioccolato $1712$, $9408$ e $4948992$ e effettuiamo una verifica numerica."
   ]
  },
  {
   "cell_type": "code",
   "execution_count": 16,
   "metadata": {
    "collapsed": false
   },
   "outputs": [
    {
     "name": "stdout",
     "output_type": "stream",
     "text": [
      "4  >=  2 + 4 - 2\n",
      "Teorema verificato\n",
      "\n",
      "6  >=  3 + 3 - 2\n",
      "Teorema verificato\n",
      "\n",
      "10  >=  4 + 3 - 2\n",
      "Teorema verificato\n",
      "\n"
     ]
    }
   ],
   "source": [
    "def verificaTeorema5(numero, m, n):\n",
    "    if (m > 1 and n > 1):\n",
    "        if (v2(numero) >= m + n - 2):\n",
    "            print v2(numero), ' >= ',m,'+',n,'- 2' \n",
    "            return 'Teorema verificato'\n",
    "        else: \n",
    "            return 'Teorema non verificato'\n",
    "    else: return 'parametro/i non maggiore/i di 1 '\n",
    "\n",
    "\n",
    "listaChocolateN = [1712, 9408, 4948992] # I primi due divisibili ed il terzo no.\n",
    "listaM = [2, 3, 4]\n",
    "listaN = [4, 3, 3]\n",
    "\n",
    "for g in range(0, 3):\n",
    "    ris = verificaTeorema5(listaChocolateN[g], listaM[g], listaN[g])\n",
    "    print ris\n",
    "    print"
   ]
  },
  {
   "cell_type": "markdown",
   "metadata": {
    "collapsed": true
   },
   "source": [
    "<b><font size = 3> Dimostrazione: </font></b>"
   ]
  },
  {
   "cell_type": "markdown",
   "metadata": {},
   "source": [
    "Procediamo per induzione, considerando il caso base $m=2$. Per il teorema $2$ e il corollario $3$ otteniamo:"
   ]
  },
  {
   "cell_type": "code",
   "execution_count": 17,
   "metadata": {
    "collapsed": false
   },
   "outputs": [
    {
     "data": {
      "image/png": "[encoded data removed]",
      "text/latex": [
       "$${\\binom{2 n - 2}{n - 1}} A_{1, n}^{2} + \\sum_{i=1}^{n - 1} {\\binom{2 n - 2}{2 i - 1}} A_{2, i} A_{2, -i + n} = \\left(2 n - 2\\right)! + \\sum_{i=1}^{n - 1} {\\binom{2 n - 2}{2 i - 1}} A_{2, i} A_{2, -i + n}$$"
      ],
      "text/plain": [
       "                     n - 1                                               n - 1\n",
       "                      ____                                                ____\n",
       "                      ╲                                                   ╲   \n",
       "                       ╲   ⎛2⋅n - 2⎞                                       ╲  \n",
       "⎛2⋅n - 2⎞  2            ╲  ⎜       ⎟⋅A[2, i]⋅A[2, -i + n]                   ╲ \n",
       "⎜       ⎟⋅A [1, n] +    ╱  ⎝2⋅i - 1⎠                      = (2⋅n - 2)! +    ╱ \n",
       "⎝ n - 1 ⎠              ╱                                                   ╱  \n",
       "                      ╱                                                   ╱   \n",
       "                      ‾‾‾‾                                                ‾‾‾‾\n",
       "                     i = 1                                               i = 1\n",
       "\n",
       "                               \n",
       "                               \n",
       "                               \n",
       " ⎛2⋅n - 2⎞                     \n",
       " ⎜       ⎟⋅A[2, i]⋅A[2, -i + n]\n",
       " ⎝2⋅i - 1⎠                     \n",
       "                               \n",
       "                               \n",
       "                               \n",
       "                               "
      ]
     },
     "execution_count": 17,
     "metadata": {},
     "output_type": "execute_result"
    }
   ],
   "source": [
    "i, n = symbols('i, n')\n",
    "A = MatrixSymbol('A', 3, 6) # Matrice simbolica 3x6 che rappresenta il caso 2x5.\n",
    "exp1 = binomial(2*n-2, n-1)*A[1,n]*A[1,n] + Sum((binomial(2*n-2, 2*i-1)*A[2, i]*A[2,n-i]),(i, 1, n-1))\n",
    "exp2 = factorial(2*n-2) + Sum((binomial(2*n-2, 2*i-1)*A[2, i]*A[2,n-i]),(i, 1, n-1))\n",
    "f1 = implemented_function(Function('f1'), lambda t: binomial(2*n-2, n-1)*A[1,n]*A[1,n] + Sum((binomial(2*n-2, 2*i-1)*A[2, i]*A[2,n-i]),(i, 1, n-1)))\n",
    "lam1 = lambdify((n), f1(n))\n",
    "f2 = implemented_function(Function('f2'), lambda t: factorial(2*n-2) + Sum((binomial(2*n-2, 2*i-1)*A[2, i]*A[2,n-i]),(i, 1, n-1)))\n",
    "lam2 = lambdify(n, f2(n))\n",
    "expDimostrazione = Eq(exp1, exp2)\n",
    "expDimostrazione"
   ]
  },
  {
   "cell_type": "code",
   "execution_count": 18,
   "metadata": {
    "collapsed": false
   },
   "outputs": [
    {
     "data": {
      "image/png": "[encoded data removed]",
      "text/latex": [
       "$$\\left [ \\left ( 1, \\quad -1 + A_{1, 1}^{2}\\right ), \\quad \\left ( 2, \\quad -2 + 2 A_{1, 2}^{2}\\right ), \\quad \\left ( 3, \\quad -24 + 6 A_{1, 3}^{2}\\right )\\right ]$$"
      ],
      "text/plain": [
       "⎡⎛           2⎞  ⎛             2⎞  ⎛              2⎞⎤\n",
       "⎣⎝1, -1 + A₁₁ ⎠, ⎝2, -2 + 2⋅A₁₂ ⎠, ⎝3, -24 + 6⋅A₁₃ ⎠⎦"
      ]
     },
     "execution_count": 18,
     "metadata": {},
     "output_type": "execute_result"
    }
   ],
   "source": [
    "[(n, lam1(n) - lam2(n)) for n in range(1,4)]"
   ]
  },
  {
   "cell_type": "markdown",
   "metadata": {},
   "source": [
    "Utilizzando una matrice simbolica possiamo osservare i passaggi finali dell'algoritmo, i quali rispettono la ricorrenza presentata all'inizio del notebook. In particolare possiamo osservare come certe operazioni rimangono astratte ma facciamo comunque una verifica numerica:"
   ]
  },
  {
   "cell_type": "code",
   "execution_count": 19,
   "metadata": {
    "collapsed": false
   },
   "outputs": [
    {
     "data": {
      "image/png": "[encoded data removed]",
      "text/latex": [
       "$$\\left [ \\left ( 1, \\quad 0\\right ), \\quad \\left ( 2, \\quad 0\\right ), \\quad \\left ( 3, \\quad 0\\right ), \\quad \\left ( 4, \\quad 0\\right ), \\quad \\left ( 5, \\quad 0\\right )\\right ]$$"
      ],
      "text/plain": [
       "[(1, 0), (2, 0), (3, 0), (4, 0), (5, 0)]"
      ]
     },
     "execution_count": 19,
     "metadata": {},
     "output_type": "execute_result"
    }
   ],
   "source": [
    "A = ChocNum(2, 5)\n",
    "ListaConfronti = []\n",
    "for n in range(1,6):\n",
    "    s1 = binomial(2*n-2, n-1)*A[1, n]*A[1,n]\n",
    "    s2 = sum(binomial(2*n-2, 2*i-1)*A[2, i]*A[2,n-i] for i in range(1,n))\n",
    "    s3 = factorial(2*n-2)\n",
    "    s4 = s1 + s2 - s3 - s2\n",
    "    ListaConfronti.append((n,s4))\n",
    "    \n",
    "ListaConfronti"
   ]
  },
  {
   "cell_type": "markdown",
   "metadata": {},
   "source": [
    "Verifichiamo in modo diretto che $v_2(B_{1}) = 0$ e che $v_2(B_{j}) = j$ per ogni $j = 2,3,4$."
   ]
  },
  {
   "cell_type": "code",
   "execution_count": 20,
   "metadata": {
    "collapsed": false
   },
   "outputs": [
    {
     "data": {
      "image/png": "[encoded data removed]",
      "text/latex": [
       "$$\\left [ 0, \\quad 2, \\quad 3, \\quad 4\\right ]$$"
      ],
      "text/plain": [
       "[0, 2, 3, 4]"
      ]
     },
     "execution_count": 20,
     "metadata": {},
     "output_type": "execute_result"
    }
   ],
   "source": [
    "A = ChocNum(2, 4)\n",
    "[v2(A[2,i]) for i in range(1,5)]  "
   ]
  },
  {
   "cell_type": "markdown",
   "metadata": {},
   "source": [
    "Possiamo notare che per $n>4$ si ha $v_2((2n-2)!) \\geq n$"
   ]
  },
  {
   "cell_type": "code",
   "execution_count": 21,
   "metadata": {
    "collapsed": false
   },
   "outputs": [
    {
     "name": "stdout",
     "output_type": "stream",
     "text": [
      "v2((2* 5 - 2)!) =  7\n",
      "Condizione verificata per n =  5\n",
      "\n",
      "v2((2* 6 - 2)!) =  8\n",
      "Condizione verificata per n =  6\n",
      "\n",
      "v2((2* 7 - 2)!) =  10\n",
      "Condizione verificata per n =  7\n",
      "\n",
      "v2((2* 8 - 2)!) =  11\n",
      "Condizione verificata per n =  8\n",
      "\n",
      "v2((2* 9 - 2)!) =  15\n",
      "Condizione verificata per n =  9\n",
      "\n",
      "v2((2* 10 - 2)!) =  16\n",
      "Condizione verificata per n =  10\n",
      "\n",
      "v2((2* 11 - 2)!) =  18\n",
      "Condizione verificata per n =  11\n",
      "\n",
      "v2((2* 12 - 2)!) =  19\n",
      "Condizione verificata per n =  12\n",
      "\n",
      "v2((2* 13 - 2)!) =  22\n",
      "Condizione verificata per n =  13\n",
      "\n",
      "v2((2* 14 - 2)!) =  23\n",
      "Condizione verificata per n =  14\n",
      "\n",
      "v2((2* 15 - 2)!) =  25\n",
      "Condizione verificata per n =  15\n",
      "\n",
      "v2((2* 16 - 2)!) =  26\n",
      "Condizione verificata per n =  16\n",
      "\n",
      "v2((2* 17 - 2)!) =  31\n",
      "Condizione verificata per n =  17\n",
      "\n",
      "v2((2* 18 - 2)!) =  32\n",
      "Condizione verificata per n =  18\n",
      "\n",
      "v2((2* 19 - 2)!) =  34\n",
      "Condizione verificata per n =  19\n",
      "\n"
     ]
    }
   ],
   "source": [
    "for n in range(5, 20):\n",
    "    ris = v2(factorial(2*n-2))\n",
    "    print 'v2((2*',n,'- 2)!) = ', ris\n",
    "    \n",
    "    if ris >= n:\n",
    "        print 'Condizione verificata per n = ', n\n",
    "        print\n",
    "    else:\n",
    "        print 'Condizione non verificata per n = ', n\n",
    "        print"
   ]
  },
  {
   "cell_type": "markdown",
   "metadata": {},
   "source": [
    "Osserviamo che ogni termine di $\\binom{2n-2}{2m-1}B_{m}B_{n-m}$ ha almeno un numero di potenze di $2$ come $B_{m}B_{n-m}$, che per ipotesi induttiva è almeno $n$ per $m \\neq 1$,$ n-1$. Ma per $m=1, n-1$ i valori del prodotto $B_{m}B_{n-m}$ sono uguali a $B_{n-1}$ e per ipotesi induttiva hanno almeno $n-1$ potenze di $2$. Così otteniamo che $B_{n}$ ha almeno $n$ potenze di $2$ cioè $v_2(B_{n}) \\geq n$."
   ]
  },
  {
   "cell_type": "markdown",
   "metadata": {},
   "source": [
    "Adesso assumiamo che il teorema valga per tutti gli $A_{m',n'}$ con $1<m'<m$ e $1<n'<n$ per $m,n > 2$ e proviamo il teorema per $A_{m,n}$: "
   ]
  },
  {
   "cell_type": "markdown",
   "metadata": {},
   "source": [
    "Consideriamo il primo sommando e notiamo che per ogni $i \\neq 1, m-1$ si ha che:\n",
    "\n",
    "$$ v_2(\\binom{mn-2}{in-1}A_{i,n}A_{m-i, n}) \\geq v_2(A_{i,n}A_{m-i, n}) \\geq (i+n-2) + (m-i+n-2) \\geq m+n-2 $$"
   ]
  },
  {
   "cell_type": "markdown",
   "metadata": {},
   "source": [
    "Invece per $i=1, m-1$ si ha che:\n",
    "\n",
    "$$ v_2(\\binom{mn-2}{n-1} A_{1,n}A_{m-1, n} + \\binom{mn-2}{mn-n-1}A_{m-1,n}A_{1, n}) = v_2(2\\binom{mn-2}{n-1}A_{1,n}A_{m-1, n}) \\geq v_2(2A_{m-1,n}) \\geq 1+(m-1+n-2) = m + n - 2 $$ "
   ]
  },
  {
   "cell_type": "markdown",
   "metadata": {},
   "source": [
    "Lo stesso ragionamento viene ripetuto per il secondo sommando ed il teorema è dimostrato. Di seguito vengono riportate le simulazioni dei passaggi con alcuni valori:"
   ]
  },
  {
   "cell_type": "code",
   "execution_count": 22,
   "metadata": {
    "collapsed": false
   },
   "outputs": [],
   "source": [
    "m = 5\n",
    "n = 5    \n",
    "A = ChocNum(m,n)\n",
    "\n",
    "risultati1 = []\n",
    "risultati2 = []\n",
    "risultati3 = []\n",
    "risultati4 = []\n",
    "\n",
    "# Prima catena di disuguaglianze per il primo sommando della ricorrenza (i != 1, m-1).\n",
    "\n",
    "for i in range(2, m-1): \n",
    "    exp1 = v2(binomial(m*n-2, i*n-1)*A[i,n]*A[m-i,n])\n",
    "    exp2 = v2(A[i,n]*A[m-i,n])\n",
    "    exp3 = (i+n-2)+(m-i+n-2)\n",
    "    exp4 = m+n-2\n",
    "    if exp1 >= exp2 >= exp3 >= exp4:\n",
    "        risultati1.append(True)\n",
    "    else:\n",
    "        risultati1.append(False)\n",
    "        \n",
    "indici = [1, m-1]\n",
    "\n",
    "# Seconda catena di disuguaglianze per il primo sommando della ricorrenza (i = 1, m-1).\n",
    "\n",
    "for i in indici: \n",
    "    exp1 = v2(binomial(m*n-2, n-1)*A[1,n]*A[m-1,n] + binomial(m*n - 2, m*n-n-1)*A[m-1, n]*A[1,n])\n",
    "    exp2 = v2(2*binomial(m*n-2, n-1)*A[1,n]*A[m-1,n])\n",
    "    exp3 = v2(2*A[m-1,n])\n",
    "    exp4 = 1 + (m-1+n-2)\n",
    "    exp5 = m+n-2\n",
    "    \n",
    "    if exp1 == exp2 and exp2 >= exp3 >= exp4 and exp4 == exp5: \n",
    "         risultati2.append(True)\n",
    "    else:\n",
    "        risultati2.append(False)\n",
    "        \n",
    "# Prima catena di disuguaglianze per il secondo sommando della ricorrenza (i != 1, n-1).\n",
    "\n",
    "for i in range(2, n-1):\n",
    "    exp1 = v2(binomial(m*n-2, i*m-1)*A[m,i]*A[m,n-i])\n",
    "    exp2 = v2(A[m,i]*A[m,n-i])\n",
    "    exp3 = (m+i-2)+(m+n-i-2)\n",
    "    exp4 = m+n-2\n",
    "    if exp1 >= exp2 and exp2 >= exp3 >= exp4:\n",
    "        risultati3.append(True)\n",
    "    else:\n",
    "        risultati3.append(False)\n",
    "        \n",
    "indici2 = [1, n-1]\n",
    "\n",
    "# Seconda catena di disuguaglianze per il secondo sommando della ricorrenza (i = 1, n-1)\n",
    "\n",
    "for i in indici2:\n",
    "    exp1 = v2(binomial(m*n-2, m-1)*A[m,1]*A[m,n-1] + binomial(m*n - 2, m*n-m-1)*A[m,n-1]*A[m,1])\n",
    "    exp2 = v2(2*binomial(m*n-2, m-1)*A[m,1]*A[m,n-1])\n",
    "    exp3 = v2(2*A[m, n-1])\n",
    "    exp4 = 1 + (m+n-1-2)\n",
    "    exp5 = m+n-2\n",
    "    \n",
    "    if exp1 == exp2 and exp2 >= exp3 >= exp4 and exp4 == exp5: \n",
    "         risultati4.append(True)\n",
    "    else:\n",
    "        risultati4.append(False)"
   ]
  },
  {
   "cell_type": "code",
   "execution_count": 23,
   "metadata": {
    "collapsed": false
   },
   "outputs": [
    {
     "data": {
      "text/plain": [
       "[True, True]"
      ]
     },
     "execution_count": 23,
     "metadata": {},
     "output_type": "execute_result"
    }
   ],
   "source": [
    "risultati1"
   ]
  },
  {
   "cell_type": "code",
   "execution_count": 24,
   "metadata": {
    "collapsed": false
   },
   "outputs": [
    {
     "data": {
      "text/plain": [
       "[True, True]"
      ]
     },
     "execution_count": 24,
     "metadata": {},
     "output_type": "execute_result"
    }
   ],
   "source": [
    "risultati2"
   ]
  },
  {
   "cell_type": "code",
   "execution_count": 25,
   "metadata": {
    "collapsed": false
   },
   "outputs": [
    {
     "data": {
      "text/plain": [
       "[True, True]"
      ]
     },
     "execution_count": 25,
     "metadata": {},
     "output_type": "execute_result"
    }
   ],
   "source": [
    "risultati3"
   ]
  },
  {
   "cell_type": "code",
   "execution_count": 26,
   "metadata": {
    "collapsed": false
   },
   "outputs": [
    {
     "data": {
      "text/plain": [
       "[True, True]"
      ]
     },
     "execution_count": 26,
     "metadata": {},
     "output_type": "execute_result"
    }
   ],
   "source": [
    "risultati4"
   ]
  },
  {
   "cell_type": "markdown",
   "metadata": {},
   "source": [
    "<b><font size = 4> Corollario 6 </font></b> <center>Per la sequenza $B_{n}$ dei 2-Chocolate Numbers $v_2(B_{n}) \\geq n$, per $n \\geq 1$.</center>"
   ]
  },
  {
   "cell_type": "code",
   "execution_count": 27,
   "metadata": {
    "collapsed": false
   },
   "outputs": [
    {
     "name": "stdout",
     "output_type": "stream",
     "text": [
      "v2( 4 ): limitato inferiormente da --> 2\n",
      "v2( 56 ): limitato inferiormente da --> 3\n",
      "v2( 1712 ): limitato inferiormente da --> 4\n",
      "v2( 92800 ): limitato inferiormente da --> 5\n"
     ]
    }
   ],
   "source": [
    "A = ChocNum(2, 5)\n",
    "\n",
    "for i in range(2, n+1):\n",
    "    if v2(A[2,i]) >= i:\n",
    "        print 'v2(',A[2,i], '): limitato inferiormente da -->', i\n",
    "    else:\n",
    "        print 'Condizione non verificata'"
   ]
  },
  {
   "cell_type": "markdown",
   "metadata": {},
   "source": [
    "<b><font size = 4> Corollario 7 </font></b> <center>Per la sequenza $a(n)$ dei chocolate squares numbers, $v_2(a(n)) \\geq 2n-2$.</center> "
   ]
  },
  {
   "cell_type": "markdown",
   "metadata": {},
   "source": [
    "<b><font size = 3> Verifica numerica: </font></b>"
   ]
  },
  {
   "cell_type": "code",
   "execution_count": 28,
   "metadata": {
    "collapsed": false
   },
   "outputs": [
    {
     "name": "stdout",
     "output_type": "stream",
     "text": [
      "v2( 1 ): limitato inferiormente da --> 0\n",
      "v2( 4 ): limitato inferiormente da --> 2\n",
      "v2( 9408 ): limitato inferiormente da --> 4\n",
      "v2( 63352393728 ): limitato inferiormente da --> 6\n"
     ]
    }
   ],
   "source": [
    "n = 5\n",
    "A = ChocNum(n, n)\n",
    "\n",
    "for i in range(1, n):\n",
    "    if v2(A[i,i]) >= (2*i-2):\n",
    "        print 'v2(', A[i,i], '): limitato inferiormente da -->', 2*i-2\n",
    "    else:\n",
    "        print 'Condizione non verificata'"
   ]
  },
  {
   "cell_type": "markdown",
   "metadata": {},
   "source": [
    "Da questo punto del Notebook prenderemo in considerazione soltanto la sequenza $B_{n}=A_{2,n}$ dei chocolate 2-numbers. A questo proposito ricordiamo la seguente ricorsione (Teorema $8$ dell'articolo), verificata nella dimostrazione del teorema $5$: $$B_{n} = (2n-2)! + \\sum_{m=1}^{n-1} \\binom{2n-2}{2m-1} B_{m}B_{n-m}$$"
   ]
  },
  {
   "cell_type": "markdown",
   "metadata": {},
   "source": [
    "Abbiamo visto nella parte precedente del notebook che $B_{n}$ è divisibile per $2^n$ ma possiamo osservare che questi numeri hanno anche altri divisori. Ad esempio molti di questi elementi sono divisibili anche per $5$ e/o $11$. Consideriamo alcuni chocolate-$2$ numbers:"
   ]
  },
  {
   "cell_type": "code",
   "execution_count": 29,
   "metadata": {
    "collapsed": false
   },
   "outputs": [
    {
     "data": {
      "image/png": "[encoded data removed]",
      "text/latex": [
       "$$\\left [ \\left [ 2\\right ], \\quad \\left [ 2, \\quad 7\\right ], \\quad \\left [ 2, \\quad 107\\right ], \\quad \\left [ 2, \\quad 5, \\quad 29\\right ], \\quad \\left [ 2, \\quad 11, \\quad 19, \\quad 37\\right ], \\quad \\left [ 2, \\quad 11, \\quad 59, \\quad 1481\\right ], \\quad \\left [ 2, \\quad 5, \\quad 11, \\quad 31, \\quad 24151\\right ]\\right ]$$"
      ],
      "text/plain": [
       "[[2], [2, 7], [2, 107], [2, 5, 29], [2, 11, 19, 37], [2, 11, 59, 1481], [2, 5,\n",
       " 11, 31, 24151]]"
      ]
     },
     "execution_count": 29,
     "metadata": {},
     "output_type": "execute_result"
    }
   ],
   "source": [
    "A = ChocNum(2, 8)\n",
    "Lst = A[2:, 1:]\n",
    "[primefactors(Lst[i]) for i in range(1, len(Lst))]"
   ]
  },
  {
   "cell_type": "markdown",
   "metadata": {},
   "source": [
    "<b><font size = 4> Teorema 9: </font></b> Sia $n$ un intero positivo. Se $k$ è un intero positivo che divide $B_{i}$ $\\forall \\lfloor{\\frac{n+1}{2}}\\rfloor \\leq i \\leq n-1$ e soddisfa $k \\mid (2n-2)!$, allora $k \\mid B_{j} \\forall j \\geq n$."
   ]
  },
  {
   "cell_type": "markdown",
   "metadata": {},
   "source": [
    "<b><font size = 3> Dimostrazione: </font></b>"
   ]
  },
  {
   "cell_type": "markdown",
   "metadata": {},
   "source": [
    "Per induzione su $n$. Dato che $k$ divide ognuno dei fattori nella sommatoria ed anche $(2n-2)!$, deve dividere anche $B_{n}$.\n",
    "Assumiamo che il risultato valga per $n$, $n+1$, ..., $m$ e proviamo il risultato per $m+1$. Dato che $m \\geq n$, si ha che $k \\mid (2m-2)!$ e dato che $k \\mid B_{j}$, per $\\forall \\lfloor{\\frac{n+1}{2}}\\rfloor \\leq k \\leq n-1$, $k$ deve dividere $B_{m+1}$ per il ragionamento fatto in precedenza."
   ]
  },
  {
   "cell_type": "markdown",
   "metadata": {},
   "source": [
    "Questo teorema è la generalizzazione dei corollari successivi, quindi si vedano le verifiche numeriche seguenti."
   ]
  },
  {
   "cell_type": "markdown",
   "metadata": {},
   "source": [
    "<b><font size = 4> Corollario 10: </font></b> <center>Per ogni $i \\geq 6$, $11\\mid B_{i}$</center> "
   ]
  },
  {
   "cell_type": "markdown",
   "metadata": {},
   "source": [
    "<b><font size = 3> Dimostrazione: </font></b> Attraverso il controllo che 11 divide $B_{3}, B_{4}$ e $B_{5}$, il risultato deriva immediatamente dal teorema $9$."
   ]
  },
  {
   "cell_type": "markdown",
   "metadata": {},
   "source": [
    "<b><font size = 3> Verifica numerica: </font></b>"
   ]
  },
  {
   "cell_type": "code",
   "execution_count": 30,
   "metadata": {
    "collapsed": false
   },
   "outputs": [
    {
     "name": "stdout",
     "output_type": "stream",
     "text": [
      "7918592  risulta divisibile per 11\n",
      "984237056  risulta divisibile per 11\n",
      "168662855680  risulta divisibile per 11\n",
      "38238313152512  risulta divisibile per 11\n",
      "11106033743298560  risulta divisibile per 11\n",
      "4026844843819663360  risulta divisibile per 11\n",
      "1784377436257886142464  risulta divisibile per 11\n"
     ]
    }
   ],
   "source": [
    "A = ChocNum(2, 12)\n",
    "\n",
    "for i in range(6, 13):\n",
    "    if A[2, i] % 11 == 0:\n",
    "        print A[2, i], ' risulta divisibile per 11'\n",
    "    else:\n",
    "        print A[2, i], ' non risulta divisibile per 11'"
   ]
  },
  {
   "cell_type": "markdown",
   "metadata": {},
   "source": [
    "<b><font size = 4> Corollario 11 </font></b> <center>Per ogni $i \\geq 13$, $5 \\mid B_{i}$</center>"
   ]
  },
  {
   "cell_type": "markdown",
   "metadata": {},
   "source": [
    "<b><font size = 3> Dimostrazione: </font></b>\n",
    "Come si vede nella parte di simulazione sottostante, $5\\mid B_{i}$, per ogni $13 \\leq i \\leq 24$. Quindi dal teorema $9$ deriva immediatamente."
   ]
  },
  {
   "cell_type": "code",
   "execution_count": 31,
   "metadata": {
    "collapsed": false
   },
   "outputs": [
    {
     "name": "stdout",
     "output_type": "stream",
     "text": [
      "949324216111786046259200  risulta divisibile per 5\n",
      "597340801661667138076672000  risulta divisibile per 5\n",
      "438858704839955952346364641280  risulta divisibile per 5\n",
      "372304335009232578769863468646400  risulta divisibile per 5\n",
      "361194379506079387834590582695526400  risulta divisibile per 5\n",
      "397344485914557234504637557435583692800  risulta divisibile per 5\n",
      "491949427176284060395435571314810054246400  risulta divisibile per 5\n",
      "680935947093241518407581695028056417107968000  risulta divisibile per 5\n",
      "1047458042788816755649494968134208487286007398400  risulta divisibile per 5\n",
      "1781087350387025103895610601866361576831572561100800  risulta divisibile per 5\n",
      "3331580558822128328839570009157051606629827292954624000  risulta divisibile per 5\n",
      "6825341427180849441677409850339430903567856502815535923200  risulta divisibile per 5\n"
     ]
    }
   ],
   "source": [
    "A = ChocNum(2, 24)\n",
    "\n",
    "for i in range(13, 25):\n",
    "    if A[2, i] % 5 == 0:\n",
    "        print A[2, i], ' risulta divisibile per 5'\n",
    "    else:\n",
    "        print A[2, i], ' non risulta divisibile per 5'"
   ]
  },
  {
   "cell_type": "markdown",
   "metadata": {},
   "source": [
    "# Funzioni Generatrici"
   ]
  },
  {
   "cell_type": "markdown",
   "metadata": {},
   "source": [
    "Cerchiamo una forma esplicita per la funzione generatrice dei chocolate-$2$ numbers usando funzioni ipergeometriche. Consideriamo la funzione: <br><br>$$ f(X) = \\sum_{n \\geq 1} \\frac{B_{n}}{(2n-1)!}X^n $$"
   ]
  },
  {
   "cell_type": "markdown",
   "metadata": {},
   "source": [
    "<b><font size = 4> Lemma 12: </font></b>La funzione $f(X)$ soddisfa la seguente equazione differenziale: <br><br>$$ f'(X) = \\frac{1}{2(1-X)} + \\frac{1}{2X}f(X) + \\frac{1}{2X}f(X)^2 $$"
   ]
  },
  {
   "cell_type": "markdown",
   "metadata": {},
   "source": [
    "<b><font size = 3> Dimostrazione: </font></b>"
   ]
  },
  {
   "cell_type": "code",
   "execution_count": 32,
   "metadata": {
    "collapsed": false
   },
   "outputs": [
    {
     "data": {
      "image/png": "[encoded data removed]",
      "text/latex": [
       "$$f^{2}{\\left (X \\right )} = \\left(\\sum_{i=1}^{\\infty} \\frac{B_{i} X^{i}}{\\left(2 i - 1\\right)!}\\right) \\sum_{j=1}^{\\infty} \\frac{B_{j} X^{j}}{\\left(2 j - 1\\right)!}$$"
      ],
      "text/plain": [
       "        ⎛  ∞             ⎞   ∞             \n",
       "        ⎜ ____           ⎟  ____           \n",
       "        ⎜ ╲              ⎟  ╲              \n",
       "        ⎜  ╲           i ⎟   ╲           j \n",
       " 2      ⎜   ╲   B_{i}⋅X  ⎟    ╲   B_{j}⋅X  \n",
       "f (X) = ⎜   ╱  ──────────⎟⋅   ╱  ──────────\n",
       "        ⎜  ╱   (2⋅i - 1)!⎟   ╱   (2⋅j - 1)!\n",
       "        ⎜ ╱              ⎟  ╱              \n",
       "        ⎜ ‾‾‾‾           ⎟  ‾‾‾‾           \n",
       "        ⎝i = 1           ⎠ j = 1           "
      ]
     },
     "execution_count": 32,
     "metadata": {},
     "output_type": "execute_result"
    }
   ],
   "source": [
    "f = Function('f')\n",
    "i, j, X, Bi, Bj = symbols('i, j, X, B_{i}, B_{j}')\n",
    "exp1 = Sum(Bi/(factorial(2*i-1))*X**i, (i, 1, oo))*Sum(Bj/(factorial(2*j-1))*X**j, (j, 1, oo))\n",
    "eq1 = Eq(f(X)**2, exp1)\n",
    "eq1"
   ]
  },
  {
   "cell_type": "code",
   "execution_count": 33,
   "metadata": {
    "collapsed": false
   },
   "outputs": [
    {
     "data": {
      "text/latex": [
       "$$\\left(\\sum_{i=1}^{\\infty} \\frac{B_{i} X^{i}}{\\left(2 i - 1\\right)!}\\right) \\sum_{j=1}^{\\infty} \\frac{B_{j} X^{j}}{\\left(2 j - 1\\right)!} = \\sum_{\\substack{1 \\leq m \\leq n - 1\\\\2 \\leq n \\leq \\infty}} \\frac{B_{m} B_{n-m} X^{n}}{\\left(2 m - 1\\right)! \\left(- 2 m + 2 n - 1\\right)!}$$"
      ],
      "text/plain": [
       "⎛  ∞             ⎞   ∞                  ∞   n - 1                             \n",
       "⎜ ____           ⎟  ____               ____  ____                             \n",
       "⎜ ╲              ⎟  ╲                  ╲     ╲                                \n",
       "⎜  ╲           i ⎟   ╲           j      ╲     ╲                        n      \n",
       "⎜   ╲   B_{i}⋅X  ⎟    ╲   B_{j}⋅X        ╲     ╲        B_{m}⋅B_{n-m}⋅X       \n",
       "⎜   ╱  ──────────⎟⋅   ╱  ────────── =    ╱     ╱  ────────────────────────────\n",
       "⎜  ╱   (2⋅i - 1)!⎟   ╱   (2⋅j - 1)!     ╱     ╱   (2⋅m - 1)!⋅(-2⋅m + 2⋅n - 1)!\n",
       "⎜ ╱              ⎟  ╱                  ╱     ╱                                \n",
       "⎜ ‾‾‾‾           ⎟  ‾‾‾‾               ‾‾‾‾  ‾‾‾‾                             \n",
       "⎝i = 1           ⎠ j = 1              n = 2 m = 1                             "
      ]
     },
     "execution_count": 33,
     "metadata": {},
     "output_type": "execute_result"
    }
   ],
   "source": [
    "m, n, Bm, Bnm = symbols('m, n, B_{m}, B_{n-m}')\n",
    "exp2 = Sum(Sum((Bm*Bnm*X**n)/(factorial(2*m-1)*factorial(2*n-2*m-1)),(m, 1, n-1)),(n, 2, oo))\n",
    "eq2 = Eq(exp1, exp2)\n",
    "eq2"
   ]
  },
  {
   "cell_type": "markdown",
   "metadata": {},
   "source": [
    "Si può ricavare dal Teorema $8$, dividendo ambo i membri per $(2n-2)!$ che: "
   ]
  },
  {
   "cell_type": "code",
   "execution_count": 34,
   "metadata": {
    "collapsed": false
   },
   "outputs": [
    {
     "data": {
      "image/png": "[encoded data removed]",
      "text/latex": [
       "$$\\frac{B_{n}}{\\left(2 n - 2\\right)!} - 1 = \\sum_{m=1}^{n - 1} \\frac{B_{m} B_{n-m}}{\\left(2 m - 1\\right)! \\left(- 2 m + 2 n - 1\\right)!}$$"
      ],
      "text/plain": [
       "                 n - 1                             \n",
       "                  ____                             \n",
       "                  ╲                                \n",
       "                   ╲          B_{m}⋅B_{n-m}        \n",
       "  B_{n}             ╲  ────────────────────────────\n",
       "────────── - 1 =    ╱  (2⋅m - 1)!⋅(-2⋅m + 2⋅n - 1)!\n",
       "(2⋅n - 2)!         ╱                               \n",
       "                  ╱                                \n",
       "                  ‾‾‾‾                             \n",
       "                 m = 1                             "
      ]
     },
     "execution_count": 34,
     "metadata": {},
     "output_type": "execute_result"
    }
   ],
   "source": [
    "Bn = symbols('B_{n}')\n",
    "exp3 = Bn/factorial(2*n-2) - 1\n",
    "exp4 = Sum((Bm*Bnm)/(factorial(2*m-1)*factorial(2*n-2*m-1)),(m, 1, n-1))\n",
    "eq3 = Eq(exp3, exp4)\n",
    "eq3"
   ]
  },
  {
   "cell_type": "code",
   "execution_count": 35,
   "metadata": {
    "collapsed": false
   },
   "outputs": [
    {
     "data": {
      "text/latex": [
       "$$\\sum_{\\substack{1 \\leq m \\leq n - 1\\\\2 \\leq n \\leq \\infty}} \\frac{B_{m} B_{n-m} X^{n}}{\\left(2 m - 1\\right)! \\left(- 2 m + 2 n - 1\\right)!} = - \\sum_{n=2}^{\\infty} X^{n} + \\sum_{n=2}^{\\infty} \\frac{B_{n} X^{n}}{\\left(2 n - 2\\right)!}$$"
      ],
      "text/plain": [
       "  ∞   n - 1                                               ∞             \n",
       " ____  ____                                    ∞         ____           \n",
       " ╲     ╲                                      ___        ╲              \n",
       "  ╲     ╲                        n            ╲           ╲           n \n",
       "   ╲     ╲        B_{m}⋅B_{n-m}⋅X              ╲    n      ╲   B_{n}⋅X  \n",
       "   ╱     ╱  ──────────────────────────── = -   ╱   X  +    ╱  ──────────\n",
       "  ╱     ╱   (2⋅m - 1)!⋅(-2⋅m + 2⋅n - 1)!      ╱           ╱   (2⋅n - 2)!\n",
       " ╱     ╱                                      ‾‾‾        ╱              \n",
       " ‾‾‾‾  ‾‾‾‾                                  n = 2       ‾‾‾‾           \n",
       "n = 2 m = 1                                             n = 2           "
      ]
     },
     "execution_count": 35,
     "metadata": {},
     "output_type": "execute_result"
    }
   ],
   "source": [
    "exp4 = Sum(Sum((Bm*Bnm*X**n)/(factorial(2*m-1)*factorial(2*n-2*m-1)),(m, 1, n-1)),(n, 2, oo))\n",
    "exp5 = Sum((Bn*X**n)/factorial(2*n-2),(n, 2, oo)) - Sum(X**n,(n, 2, oo))\n",
    "eq4 = Eq(exp4, exp5)\n",
    "eq4"
   ]
  },
  {
   "cell_type": "code",
   "execution_count": 36,
   "metadata": {
    "collapsed": false
   },
   "outputs": [
    {
     "data": {
      "image/png": "[encoded data removed]",
      "text/latex": [
       "$$- \\sum_{n=2}^{\\infty} X^{n} + \\sum_{n=2}^{\\infty} \\frac{B_{n} X^{n}}{\\left(2 n - 2\\right)!} = - \\sum_{n=1}^{\\infty} X^{n} + \\sum_{n=1}^{\\infty} \\frac{B_{n} X^{n}}{\\left(2 n - 2\\right)!}$$"
      ],
      "text/plain": [
       "               ∞                               ∞             \n",
       "    ∞         ____                  ∞         ____           \n",
       "   ___        ╲                    ___        ╲              \n",
       "   ╲           ╲           n       ╲           ╲           n \n",
       "    ╲    n      ╲   B_{n}⋅X         ╲    n      ╲   B_{n}⋅X  \n",
       "-   ╱   X  +    ╱  ────────── = -   ╱   X  +    ╱  ──────────\n",
       "   ╱           ╱   (2⋅n - 2)!      ╱           ╱   (2⋅n - 2)!\n",
       "   ‾‾‾        ╱                    ‾‾‾        ╱              \n",
       "  n = 2       ‾‾‾‾                n = 1       ‾‾‾‾           \n",
       "             n = 2                           n = 1           "
      ]
     },
     "execution_count": 36,
     "metadata": {},
     "output_type": "execute_result"
    }
   ],
   "source": [
    "exp6 = Sum((Bn*X**n)/factorial(2*n-2),(n, 1, oo)) - Sum(X**n,(n, 1, oo))\n",
    "eq5 = Eq(exp5, exp6)\n",
    "eq5"
   ]
  },
  {
   "cell_type": "markdown",
   "metadata": {},
   "source": [
    "Per l'argomento della prima sommatoria cambiamo l'estremo facendolo partire da $0$, in modo tale da ottenere la funzione generatrice della sequenza di tutti $1$, sottratta a $1$ per ottenere una sommatoria equivalente. Per l'argomento della seconda sommatoria moltiplico numeratore e denominatore per $2n-1$."
   ]
  },
  {
   "cell_type": "code",
   "execution_count": 37,
   "metadata": {
    "collapsed": false
   },
   "outputs": [
    {
     "data": {
      "image/png": "[encoded data removed]",
      "text/latex": [
       "$$- \\sum_{n=1}^{\\infty} X^{n} + \\sum_{n=1}^{\\infty} \\frac{B_{n} X^{n}}{\\left(2 n - 2\\right)!} = - \\frac{X}{- X + 1} + \\sum_{n=1}^{\\infty} \\frac{B_{n} X^{n} \\left(2 n - 1\\right)}{\\left(2 n - 1\\right)!}$$"
      ],
      "text/plain": [
       "               ∞                             ∞                     \n",
       "    ∞         ____                          ____                   \n",
       "   ___        ╲                             ╲                      \n",
       "   ╲           ╲           n                 ╲          n          \n",
       "    ╲    n      ╲   B_{n}⋅X         X         ╲  B_{n}⋅X ⋅(2⋅n - 1)\n",
       "-   ╱   X  +    ╱  ────────── = - ────── +    ╱  ──────────────────\n",
       "   ╱           ╱   (2⋅n - 2)!     -X + 1     ╱       (2⋅n - 1)!    \n",
       "   ‾‾‾        ╱                             ╱                      \n",
       "  n = 1       ‾‾‾‾                          ‾‾‾‾                   \n",
       "             n = 1                         n = 1                   "
      ]
     },
     "execution_count": 37,
     "metadata": {},
     "output_type": "execute_result"
    }
   ],
   "source": [
    "exp7 = Sum(((2*n-1)*Bn*X**n)/factorial(2*n-1), (n, 1, oo)) - X / (1-X)\n",
    "eq6 = Eq(exp6, exp7)\n",
    "eq6"
   ]
  },
  {
   "cell_type": "code",
   "execution_count": 38,
   "metadata": {
    "collapsed": false
   },
   "outputs": [
    {
     "data": {
      "image/png": "[encoded data removed]",
      "text/latex": [
       "$$- \\frac{X}{- X + 1} + \\sum_{n=1}^{\\infty} \\frac{B_{n} X^{n} \\left(2 n - 1\\right)}{\\left(2 n - 1\\right)!} = - \\frac{X}{- X + 1} - f{\\left (X \\right )} + 2 \\sum_{n=1}^{\\infty} \\frac{B_{n} X^{n} n}{\\left(2 n - 1\\right)!}$$"
      ],
      "text/plain": [
       "             ∞                                              ∞             \n",
       "            ____                                           ____           \n",
       "            ╲                                              ╲              \n",
       "             ╲          n                                   ╲          n  \n",
       "    X         ╲  B_{n}⋅X ⋅(2⋅n - 1)       X                  ╲  B_{n}⋅X ⋅n\n",
       "- ────── +    ╱  ────────────────── = - ────── - f(X) + 2⋅   ╱  ──────────\n",
       "  -X + 1     ╱       (2⋅n - 1)!         -X + 1              ╱   (2⋅n - 1)!\n",
       "            ╱                                              ╱              \n",
       "            ‾‾‾‾                                           ‾‾‾‾           \n",
       "           n = 1                                          n = 1           "
      ]
     },
     "execution_count": 38,
     "metadata": {},
     "output_type": "execute_result"
    }
   ],
   "source": [
    "exp8 = 2*Sum((n*Bn*X**n)/factorial(2*n-1),(n, 1, oo)) - f(X) - X / (1-X)\n",
    "eq7 = Eq(exp7, exp8)\n",
    "eq7"
   ]
  },
  {
   "cell_type": "markdown",
   "metadata": {},
   "source": [
    "Adesso calcoliamo la derivata di f(X), la sostituiamo nell'equazione precedente e otteniamo:"
   ]
  },
  {
   "cell_type": "code",
   "execution_count": 39,
   "metadata": {
    "collapsed": false
   },
   "outputs": [
    {
     "data": {
      "image/png": "[encoded data removed]",
      "text/latex": [
       "$$\\operatorname{f'}{\\left (X \\right )} = \\sum_{n=1}^{\\infty} \\frac{B_{n} X^{n} n}{X \\left(2 n - 1\\right)!}$$"
      ],
      "text/plain": [
       "          ∞               \n",
       "         ____             \n",
       "         ╲                \n",
       "          ╲           n   \n",
       "           ╲   B_{n}⋅X ⋅n \n",
       "f'(X) =    ╱  ────────────\n",
       "          ╱   X⋅(2⋅n - 1)!\n",
       "         ╱                \n",
       "         ‾‾‾‾             \n",
       "        n = 1             "
      ]
     },
     "execution_count": 39,
     "metadata": {},
     "output_type": "execute_result"
    }
   ],
   "source": [
    "df = Function(\"f'\")\n",
    "exp9 = Sum(Bn*X**n/(factorial(2*n-1)), (n, 1, oo))\n",
    "exp10 = diff(exp9, X)\n",
    "eq8 = Eq(df(X), exp10)\n",
    "eq8"
   ]
  },
  {
   "cell_type": "code",
   "execution_count": 40,
   "metadata": {
    "collapsed": false
   },
   "outputs": [
    {
     "data": {
      "image/png": "[encoded data removed]",
      "text/latex": [
       "$$f^{2}{\\left (X \\right )} = 2 X \\operatorname{f'}{\\left (X \\right )} - \\frac{X}{- X + 1} - f{\\left (X \\right )}$$"
      ],
      "text/plain": [
       " 2                    X          \n",
       "f (X) = 2⋅X⋅f'(X) - ────── - f(X)\n",
       "                    -X + 1       "
      ]
     },
     "execution_count": 40,
     "metadata": {},
     "output_type": "execute_result"
    }
   ],
   "source": [
    "exp11 = 2*X*df(X) - f(X) - X / (1-X)\n",
    "eq9 = Eq(f(X)**2, exp11)\n",
    "eq9"
   ]
  },
  {
   "cell_type": "markdown",
   "metadata": {},
   "source": [
    "Da questa equazione ricaviamo $f'(X)$ e dimostriamo la tesi:"
   ]
  },
  {
   "cell_type": "code",
   "execution_count": 41,
   "metadata": {
    "collapsed": false
   },
   "outputs": [
    {
     "data": {
      "image/png": "[encoded data removed]",
      "text/latex": [
       "$$\\operatorname{f'}{\\left (X \\right )} = \\frac{1}{- 2 X + 2} + \\frac{f^{2}{\\left (X \\right )}}{2 X} + \\frac{f{\\left (X \\right )}}{2 X}$$"
      ],
      "text/plain": [
       "                    2          \n",
       "           1       f (X)   f(X)\n",
       "f'(X) = ──────── + ───── + ────\n",
       "        -2⋅X + 2    2⋅X    2⋅X "
      ]
     },
     "execution_count": 41,
     "metadata": {},
     "output_type": "execute_result"
    }
   ],
   "source": [
    "exp12 = 1/(2*(1-X)) + f(X)/(2*X) + f(X)**2/(2*X)\n",
    "eq10 = Eq(df(X), exp12)\n",
    "eq10"
   ]
  },
  {
   "cell_type": "markdown",
   "metadata": {},
   "source": [
    "L'equazione appena ottenuta è detta equazione di Riccati e può essere ridotta ad un'equazione differenziale lineare del secondo ordine. A questo proposito introduciamo la seguente funzione:"
   ]
  },
  {
   "cell_type": "code",
   "execution_count": 42,
   "metadata": {
    "collapsed": false
   },
   "outputs": [
    {
     "data": {
      "image/png": "[encoded data removed]",
      "text/latex": [
       "$$\\operatorname{v'}{\\left (X \\right )} = \\frac{\\operatorname{f'}{\\left (X \\right )}}{2 X} - \\frac{f{\\left (X \\right )}}{2 X^{2}}$$"
      ],
      "text/plain": [
       "        f'(X)   f(X)\n",
       "v'(X) = ───── - ────\n",
       "         2⋅X       2\n",
       "                2⋅X "
      ]
     },
     "execution_count": 42,
     "metadata": {},
     "output_type": "execute_result"
    }
   ],
   "source": [
    "v = Function('v')\n",
    "exp1 = 1/(2*X)*f(X)\n",
    "eq1 = Eq(v(X), exp1)\n",
    "exp2 = diff(exp1, X)\n",
    "exp3 = exp2.subs(diff(f(X)), df(X))\n",
    "dv = Function(\"v'\")\n",
    "eq2 = Eq(dv(X), exp3)\n",
    "eq2"
   ]
  },
  {
   "cell_type": "code",
   "execution_count": 43,
   "metadata": {
    "collapsed": false
   },
   "outputs": [
    {
     "data": {
      "image/png": "[encoded data removed]",
      "text/latex": [
       "$$\\operatorname{v'}{\\left (X \\right )} = \\frac{1}{2 X} \\left(\\frac{1}{- 2 X + 2} + \\frac{f^{2}{\\left (X \\right )}}{2 X} + \\frac{f{\\left (X \\right )}}{2 X}\\right) - \\frac{f{\\left (X \\right )}}{2 X^{2}}$$"
      ],
      "text/plain": [
       "                    2                 \n",
       "           1       f (X)   f(X)       \n",
       "        ──────── + ───── + ────       \n",
       "        -2⋅X + 2    2⋅X    2⋅X    f(X)\n",
       "v'(X) = ─────────────────────── - ────\n",
       "                  2⋅X                2\n",
       "                                  2⋅X "
      ]
     },
     "execution_count": 43,
     "metadata": {},
     "output_type": "execute_result"
    }
   ],
   "source": [
    "exp3 = exp3.subs(df(X), exp12)\n",
    "exp3.expand()\n",
    "eq3 = Eq(dv(X) ,exp3)\n",
    "eq3"
   ]
  },
  {
   "cell_type": "code",
   "execution_count": 44,
   "metadata": {
    "collapsed": false
   },
   "outputs": [
    {
     "data": {
      "image/png": "[encoded data removed]",
      "text/latex": [
       "$$\\operatorname{v'}{\\left (X \\right )} = v^{2}{\\left (X \\right )} + \\frac{1}{- 4 X^{2} + 4 X} - \\frac{v{\\left (X \\right )}}{2 X}$$"
      ],
      "text/plain": [
       "         2           1         v(X)\n",
       "v'(X) = v (X) + ──────────── - ────\n",
       "                     2         2⋅X \n",
       "                - 4⋅X  + 4⋅X       "
      ]
     },
     "execution_count": 44,
     "metadata": {},
     "output_type": "execute_result"
    }
   ],
   "source": [
    "exp3 = exp3.subs(f(X)/(2*X), v(X))\n",
    "exp3 = exp3.expand()\n",
    "exp3 = exp3.subs(f(X)/(2*X), v(X))\n",
    "exp3 = exp3.expand()\n",
    "eq4 = Eq(dv(X) ,exp3)\n",
    "eq4"
   ]
  },
  {
   "cell_type": "markdown",
   "metadata": {
    "collapsed": true
   },
   "source": [
    "L'equazione appena ottenuta è della forma:"
   ]
  },
  {
   "cell_type": "code",
   "execution_count": 45,
   "metadata": {
    "collapsed": false
   },
   "outputs": [
    {
     "data": {
      "image/png": "[encoded data removed]",
      "text/latex": [
       "$$\\operatorname{v'}{\\left (X \\right )} = R{\\left (x \\right )} v{\\left (X \\right )} + S{\\left (x \\right )} + v^{2}{\\left (X \\right )}$$"
      ],
      "text/plain": [
       "                            2   \n",
       "v'(X) = R(x)⋅v(X) + S(x) + v (X)"
      ]
     },
     "execution_count": 45,
     "metadata": {},
     "output_type": "execute_result"
    }
   ],
   "source": [
    "R = Function('R')\n",
    "S = Function('S')\n",
    "u = Function('u')\n",
    "du = Function(\"u'\")\n",
    "x = symbols(\"x\")\n",
    "exp4 = v(X)**2 + R(x)*v(X) + S(x)\n",
    "eq5 = Eq(dv(X), exp4)\n",
    "eq5"
   ]
  },
  {
   "cell_type": "markdown",
   "metadata": {},
   "source": [
    "e si risolve con la sostituzione:"
   ]
  },
  {
   "cell_type": "code",
   "execution_count": 46,
   "metadata": {
    "collapsed": false
   },
   "outputs": [
    {
     "data": {
      "image/png": "[encoded data removed]",
      "text/latex": [
       "$$v{\\left (X \\right )} = - \\frac{\\operatorname{u'}{\\left (X \\right )}}{u{\\left (X \\right )}}$$"
      ],
      "text/plain": [
       "       -u'(X) \n",
       "v(X) = ───────\n",
       "         u(X) "
      ]
     },
     "execution_count": 46,
     "metadata": {},
     "output_type": "execute_result"
    }
   ],
   "source": [
    "exp5 = -du(X) / u(X)\n",
    "eq4 = Eq(v(X), exp5)\n",
    "eq4"
   ]
  },
  {
   "cell_type": "code",
   "execution_count": 47,
   "metadata": {
    "collapsed": false
   },
   "outputs": [
    {
     "data": {
      "image/png": "[encoded data removed]",
      "text/latex": [
       "$$\\operatorname{v'}{\\left (X \\right )} = v^{2}{\\left (X \\right )} - \\frac{\\operatorname{u''}{\\left (X \\right )}}{u{\\left (X \\right )}}$$"
      ],
      "text/plain": [
       "         2      u''(X)\n",
       "v'(X) = v (X) - ──────\n",
       "                 u(X) "
      ]
     },
     "execution_count": 47,
     "metadata": {},
     "output_type": "execute_result"
    }
   ],
   "source": [
    "exp6 = diff(exp5, X)\n",
    "du2 = Function(\"u''\")\n",
    "exp6 = exp6.subs(diff(du(X)), du2(X))\n",
    "exp6 = exp6.subs(diff(u(X)), du(X))\n",
    "exp6 = exp6.subs(du(X)**2/(u(X)**2), v(X)**2)\n",
    "eq5 = Eq(dv(X), exp6)\n",
    "eq5"
   ]
  },
  {
   "cell_type": "code",
   "execution_count": 48,
   "metadata": {
    "collapsed": false
   },
   "outputs": [
    {
     "data": {
      "image/png": "[encoded data removed]",
      "text/latex": [
       "$$\\frac{\\operatorname{u''}{\\left (X \\right )}}{u{\\left (X \\right )}} = v^{2}{\\left (X \\right )} - \\operatorname{v'}{\\left (X \\right )} = - R{\\left (x \\right )} v{\\left (X \\right )} - S{\\left (x \\right )}$$"
      ],
      "text/plain": [
       "u''(X)    2                               \n",
       "────── = v (X) - v'(X) = -R(x)⋅v(X) - S(x)\n",
       " u(X)                                     "
      ]
     },
     "execution_count": 48,
     "metadata": {},
     "output_type": "execute_result"
    }
   ],
   "source": [
    "exp7 = du2(X)/u(X)\n",
    "exp8 = v(X)**2 - dv(X)\n",
    "eq6 = Eq(exp7, exp8)\n",
    "exp9 = -S(x) - R(x)*v(X)\n",
    "eq7 = Eq(eq6, exp9)\n",
    "eq7"
   ]
  },
  {
   "cell_type": "markdown",
   "metadata": {},
   "source": [
    "Visto che: $$v(X) = \\frac{-u'(X)}{u(X)}$$"
   ]
  },
  {
   "cell_type": "code",
   "execution_count": 49,
   "metadata": {
    "collapsed": false
   },
   "outputs": [
    {
     "data": {
      "image/png": "[encoded data removed]",
      "text/latex": [
       "$$\\frac{\\operatorname{u''}{\\left (X \\right )}}{u{\\left (X \\right )}} = \\frac{R{\\left (x \\right )} \\operatorname{u'}{\\left (X \\right )}}{u{\\left (X \\right )}} - S{\\left (x \\right )}$$"
      ],
      "text/plain": [
       "u''(X)   R(x)⋅u'(X)       \n",
       "────── = ────────── - S(x)\n",
       " u(X)       u(X)          "
      ]
     },
     "execution_count": 49,
     "metadata": {},
     "output_type": "execute_result"
    }
   ],
   "source": [
    "exp9 = exp9.subs(v(X), exp5)\n",
    "eq8 = Eq(exp7, exp9)\n",
    "eq8"
   ]
  },
  {
   "cell_type": "markdown",
   "metadata": {},
   "source": [
    "Moltiplichiamo ambo i membri per $u(X)$ e otteniamo l'equazione generica che cercavamo:"
   ]
  },
  {
   "cell_type": "code",
   "execution_count": 50,
   "metadata": {
    "collapsed": false
   },
   "outputs": [
    {
     "data": {
      "image/png": "[encoded data removed]",
      "text/latex": [
       "$$- R{\\left (x \\right )} \\operatorname{u'}{\\left (X \\right )} + S{\\left (x \\right )} u{\\left (X \\right )} + \\operatorname{u''}{\\left (X \\right )} = 0$$"
      ],
      "text/plain": [
       "-R(x)⋅u'(X) + S(x)⋅u(X) + u''(X) = 0"
      ]
     },
     "execution_count": 50,
     "metadata": {},
     "output_type": "execute_result"
    }
   ],
   "source": [
    "exp10 = exp9*u(X)\n",
    "exp10 = exp10.expand()\n",
    "exp11 = exp7*u(X)\n",
    "eq9 = Eq(exp11-exp10, 0)\n",
    "eq9"
   ]
  },
  {
   "cell_type": "markdown",
   "metadata": {},
   "source": [
    "Nel caso della nostra equazione si ha che:"
   ]
  },
  {
   "cell_type": "code",
   "execution_count": 51,
   "metadata": {
    "collapsed": false
   },
   "outputs": [
    {
     "data": {
      "image/png": "[encoded data removed]",
      "text/latex": [
       "$$\\operatorname{u''}{\\left (X \\right )} + \\frac{\\operatorname{u'}{\\left (X \\right )}}{2 X} + \\frac{u{\\left (X \\right )}}{4 X \\left(- X + 1\\right)} = 0$$"
      ],
      "text/plain": [
       "         u'(X)       u(X)        \n",
       "u''(X) + ───── + ──────────── = 0\n",
       "          2⋅X    4⋅X⋅(-X + 1)    "
      ]
     },
     "execution_count": 51,
     "metadata": {},
     "output_type": "execute_result"
    }
   ],
   "source": [
    "exp13 = du2(X) + du(X)/(2*X) + u(X)/(4*X*(1-X))\n",
    "eq11 = Eq(exp13, 0)\n",
    "eq11"
   ]
  },
  {
   "cell_type": "markdown",
   "metadata": {},
   "source": [
    "# Funzioni Ipergeometriche"
   ]
  },
  {
   "cell_type": "markdown",
   "metadata": {},
   "source": [
    "Una [funzione ipergeometrica][iper] è definita per $\\mid X \\mid$ $< $ $1$ in questo modo: $$ {}_2 {F_{1}(a,b;c;X)} = {}_2 {F_{1}(a_{1}, a_{2}; b_{1}, b_{2}; c_{1}; X)} = \\sum_{n=0}^{\\infty}{\\frac{(a)_{n}(b)_{n}}{(c)_{n}} \\frac{X^n}{n!}}$$\n",
    "[iper]:https://it.wikipedia.org/wiki/Serie_ipergeometrica"
   ]
  },
  {
   "cell_type": "markdown",
   "metadata": {},
   "source": [
    "dove $(q)_{n}$ è chiamato [simbolo di Pochhammer][sp] ed è definito come:\n",
    "[sp]:https://it.wikipedia.org/wiki/Fattoriale_crescente\n",
    "\n",
    "$$\n",
    "\\begin{equation}\n",
    "    \\begin{cases}\n",
    "        1 \\ se \\ n=0 \\\\ q(q+1)...(q+n-1) \\ se \\ n>0\n",
    "\\end{cases}\n",
    "\\end{equation}\n",
    "$$"
   ]
  },
  {
   "cell_type": "markdown",
   "metadata": {},
   "source": [
    "La funzione ipergeometrica è una soluzione dell'[equazione differenziale ipergeometrica di Eulero][Eulero]:\n",
    "[Eulero]:https://it.wikipedia.org/wiki/Equazione_ipergeometrica"
   ]
  },
  {
   "cell_type": "code",
   "execution_count": 52,
   "metadata": {
    "collapsed": false
   },
   "outputs": [
    {
     "data": {
      "image/png": "[encoded data removed]",
      "text/latex": [
       "$$X \\left(- X + 1\\right) \\operatorname{w''}{\\left (X \\right )} - a b w{\\left (X \\right )} + \\left(- X \\left(a + b + 1\\right) + c\\right) \\operatorname{w'}{\\left (X \\right )} = 0$$"
      ],
      "text/plain": [
       "X⋅(-X + 1)⋅w''(X) - a⋅b⋅w(X) + (-X⋅(a + b + 1) + c)⋅w'(X) = 0"
      ]
     },
     "execution_count": 52,
     "metadata": {},
     "output_type": "execute_result"
    }
   ],
   "source": [
    "X, a, b, c = symbols('X, a, b, c')\n",
    "w = Function('w')\n",
    "dw = Function(\"w'\")\n",
    "dw2 = Function(\"w''\")\n",
    "exp = X*(1-X)*dw2(X) + (c - (a + b + 1)*X)*dw(X) - a*b*w(X)\n",
    "Eulero = Eq(exp, 0)\n",
    "Eulero"
   ]
  },
  {
   "cell_type": "markdown",
   "metadata": {},
   "source": [
    "Dall'equazione generica adesso ricaviamo la funzione $u(X)$ con il seguente lemma:"
   ]
  },
  {
   "cell_type": "markdown",
   "metadata": {},
   "source": [
    "<b><font size = 3> Lemma 13 </font></b>: $$ u = {}_2 {F_{1}( \\frac{-1-\\sqrt{5}}{4}, \\frac{-1+ \\sqrt{5}}{4}; \\frac{1}{2}; X)} $$ "
   ]
  },
  {
   "cell_type": "markdown",
   "metadata": {},
   "source": [
    "<b><font size = 3> Dimostrazione: </font></b>"
   ]
  },
  {
   "cell_type": "markdown",
   "metadata": {},
   "source": [
    "L'equazione generica può essere riscritta moltiplicando ambo i membri per $X(1-X)$:"
   ]
  },
  {
   "cell_type": "code",
   "execution_count": 53,
   "metadata": {
    "collapsed": false
   },
   "outputs": [],
   "source": [
    "lEulero = Lambda([a, b, c], exp)\n",
    "expEulero = lEulero((-1-sqrt(5))/4, (-1+sqrt(5))/4, Integer(1)/(2)).doit()\n",
    "eqEulero = Eq(expEulero, 0)\n",
    "eqEulero = eqEulero.subs(dw2(X), du2(X))\n",
    "eqEulero = eqEulero.subs(dw(X), du(X))\n",
    "eqEulero = eqEulero.subs(w(X), u(X))"
   ]
  },
  {
   "cell_type": "markdown",
   "metadata": {},
   "source": [
    "Sviluppando il coefficiente di u(X) otteniamo:\n",
    "\n",
    "$$ X(1-X)u''(X) + (\\frac{1}{2}-\\frac{X}{2})u'(X) + \\frac{u(X)}{4} = 0$$"
   ]
  },
  {
   "cell_type": "markdown",
   "metadata": {},
   "source": [
    "Da qui si ricava che $c=\\frac{1}{2}$, $a+b = -\\frac{1}{2}$ e $ab = -\\frac{1}{4}$"
   ]
  },
  {
   "cell_type": "markdown",
   "metadata": {},
   "source": [
    "<b><font size = 4> Teorema 14: </font></b> La funzione generatrice dei Chocolate-2 Numbers è:"
   ]
  },
  {
   "cell_type": "markdown",
   "metadata": {
    "collapsed": true
   },
   "source": [
    "$$f(X) = -2X \\frac{d}{dx}\\log({}_2 {F_{1}( \\frac{-1-\\sqrt{5}}{4}, \\frac{-1+ \\sqrt{5}}{4}; \\frac{1}{2}; X)})$$"
   ]
  },
  {
   "cell_type": "markdown",
   "metadata": {},
   "source": [
    "Svolgiamo qualche manipolazione allo scopo di semplificare la serie. In prima istanza sostituiamo i valori specifici di $a$, $b$ e $c$ nella formula della funzione ipergeometrica:\n",
    "\n",
    "$${}_2 {F_{1}( \\frac{-1-\\sqrt{5}}{4}, \\frac{-1+ \\sqrt{5}}{4}; \\frac{1}{2}; X)} = \\sum_{n=0}^{\\infty} \\frac{(\\frac{-1-\\sqrt{5}}{4})_{n} (\\frac{-1+\\sqrt{5}}{4})_{n}X^{n}} {(\\frac{1}{2})_{n}n!}$$"
   ]
  },
  {
   "cell_type": "markdown",
   "metadata": {},
   "source": [
    "Successivamente esplicitiamo le produttorie:"
   ]
  },
  {
   "cell_type": "code",
   "execution_count": 54,
   "metadata": {
    "collapsed": false
   },
   "outputs": [
    {
     "data": {
      "image/png": "[encoded data removed]",
      "text/latex": [
       "$$\\frac{8^{- n}}{n! \\prod_{i=1}^{n} \\left(2 i - 1\\right)} \\left(\\prod_{i=1}^{n} \\left(4 i - 5 - \\sqrt{5}\\right)\\right) \\prod_{i=1}^{n} \\left(4 i - 5 + \\sqrt{5}\\right)$$"
      ],
      "text/plain": [
       "    ⎛  n               ⎞   n               \n",
       " -n ⎜┬───┬             ⎟ ┬───┬             \n",
       "8  ⋅⎜│   │ 4⋅i - 5 - √5⎟⋅│   │ 4⋅i - 5 + √5\n",
       "    ⎜│   │             ⎟ │   │             \n",
       "    ⎝i = 1             ⎠ i = 1             \n",
       "───────────────────────────────────────────\n",
       "                   n                       \n",
       "                 ┬───┬                     \n",
       "              n!⋅│   │ 2⋅i - 1             \n",
       "                 │   │                     \n",
       "                 i = 1                     "
      ]
     },
     "execution_count": 54,
     "metadata": {},
     "output_type": "execute_result"
    }
   ],
   "source": [
    "n, i = symbols(\"n, i\")\n",
    "t14 = Product(((4*i-5)-sqrt(5)), (i, 1, n))*Product(((4*i-5)+sqrt(5)), (i, 1, n)) / ((8**n)*Product(2*i-1,(i, 1, n))*factorial(n))\n",
    "t14"
   ]
  },
  {
   "cell_type": "markdown",
   "metadata": {},
   "source": [
    "Svolgiamo il prodotto fra le due produttorie al numeratore e riscriviamo il denominatore $$8^{n} \\prod_{i=1}^{n}{(2i-1)}$$ come $$\\frac{4^{-n}}{(2n)!}$$"
   ]
  },
  {
   "cell_type": "code",
   "execution_count": 55,
   "metadata": {
    "collapsed": false
   },
   "outputs": [
    {
     "data": {
      "image/png": "[encoded data removed]",
      "text/latex": [
       "$$\\frac{4^{- n}}{\\left(2 n\\right)!} \\prod_{i=1}^{n} \\left(\\left(4 i - 5\\right)^{2} - 5\\right)$$"
      ],
      "text/plain": [
       "      n                  \n",
       "    ┬────┬               \n",
       " -n │    │          2    \n",
       "4  ⋅│    │ (4⋅i - 5)  - 5\n",
       "    │    │               \n",
       "    i = 1                \n",
       "─────────────────────────\n",
       "          (2⋅n)!         "
      ]
     },
     "execution_count": 55,
     "metadata": {},
     "output_type": "execute_result"
    }
   ],
   "source": [
    "t142 = Product(((4*i-5)**2) - 5,(i, 1, n)) / (4**n*(factorial(2*n)))\n",
    "t142"
   ]
  },
  {
   "cell_type": "markdown",
   "metadata": {},
   "source": [
    "Quindi verifichiamo numericamente che gli argomenti delle funzioni generatrici manipolate siano equivalenti:"
   ]
  },
  {
   "cell_type": "code",
   "execution_count": 56,
   "metadata": {
    "collapsed": false
   },
   "outputs": [
    {
     "data": {
      "image/png": "[encoded data removed]",
      "text/latex": [
       "$$\\left [ \\left ( 1, \\quad 0\\right ), \\quad \\left ( 2, \\quad 0\\right ), \\quad \\left ( 3, \\quad 0\\right ), \\quad \\left ( 4, \\quad 0\\right ), \\quad \\left ( 5, \\quad 0\\right ), \\quad \\left ( 6, \\quad 0\\right ), \\quad \\left ( 7, \\quad 0\\right ), \\quad \\left ( 8, \\quad 0\\right ), \\quad \\left ( 9, \\quad 0\\right ), \\quad \\left ( 10, \\quad 0\\right ), \\quad \\left ( 11, \\quad 0\\right )\\right ]$$"
      ],
      "text/plain": [
       "[(1, 0), (2, 0), (3, 0), (4, 0), (5, 0), (6, 0), (7, 0), (8, 0), (9, 0), (10, \n",
       "0), (11, 0)]"
      ]
     },
     "execution_count": 56,
     "metadata": {},
     "output_type": "execute_result"
    }
   ],
   "source": [
    "lexp = Lambda([n], t14)\n",
    "lexp2 = Lambda([n], t142)\n",
    "[(h, lexp(h).doit().simplify() - lexp2(h).doit().simplify()) for h in range (1, 12)]"
   ]
  },
  {
   "cell_type": "markdown",
   "metadata": {},
   "source": [
    "Denotiamo il numeratore ottenuto con $P_{n}$:"
   ]
  },
  {
   "cell_type": "code",
   "execution_count": 57,
   "metadata": {
    "collapsed": false
   },
   "outputs": [
    {
     "data": {
      "image/png": "[encoded data removed]",
      "text/latex": [
       "$$\\operatorname{P_{n}} = \\prod_{i=1}^{n} \\left(\\left(4 i - 5\\right)^{2} - 5\\right)$$"
      ],
      "text/plain": [
       "          n                  \n",
       "        ┬────┬               \n",
       "        │    │          2    \n",
       "P_{n} = │    │ (4⋅i - 5)  - 5\n",
       "        │    │               \n",
       "        i = 1                "
      ]
     },
     "execution_count": 57,
     "metadata": {},
     "output_type": "execute_result"
    }
   ],
   "source": [
    "i, n = symbols('i, n')\n",
    "Pn = Function('P_{n}')\n",
    "pn = Product((4*i-5)**2-5, (i, 1, n))\n",
    "eqP = Eq(Pn, pn)\n",
    "lP = Lambda([n], pn)\n",
    "eqP"
   ]
  },
  {
   "cell_type": "markdown",
   "metadata": {},
   "source": [
    "<b><font size = 4> Lemma 15: </font></b> La sequenza $P_{n}$ modulo $p$, con $p$ numero primo, converge ad una sequenza di tutti zero se solo se $p = 2, 5$ o $p$ $\\equiv$ $\\pm 1$ $( \\mod 5$ $)$."
   ]
  },
  {
   "cell_type": "markdown",
   "metadata": {},
   "source": [
    "<b><font size = 3> Verifica numerica: </font></b>"
   ]
  },
  {
   "cell_type": "code",
   "execution_count": 58,
   "metadata": {
    "collapsed": false
   },
   "outputs": [
    {
     "data": {
      "image/png": "[encoded data removed]",
      "text/latex": [
       "$$\\left [ \\left ( 2, \\quad 0\\right ), \\quad \\left ( 5, \\quad 0\\right ), \\quad \\left ( 11, \\quad 0\\right ), \\quad \\left ( 19, \\quad 0\\right ), \\quad \\left ( 29, \\quad 0\\right ), \\quad \\left ( 31, \\quad 0\\right ), \\quad \\left ( 41, \\quad 0\\right ), \\quad \\left ( 59, \\quad 0\\right ), \\quad \\left ( 61, \\quad 0\\right ), \\quad \\left ( 71, \\quad 0\\right ), \\quad \\left ( 79, \\quad 0\\right ), \\quad \\left ( 89, \\quad 0\\right ), \\quad \\left ( 101, \\quad 0\\right ), \\quad \\left ( 109, \\quad 0\\right ), \\quad \\left ( 131, \\quad 0\\right ), \\quad \\left ( 139, \\quad 0\\right ), \\quad \\left ( 149, \\quad 0\\right ), \\quad \\left ( 151, \\quad 0\\right ), \\quad \\left ( 179, \\quad 0\\right ), \\quad \\left ( 181, \\quad 0\\right ), \\quad \\left ( 191, \\quad 0\\right ), \\quad \\left ( 199, \\quad 0\\right ), \\quad \\left ( 211, \\quad 0\\right ), \\quad \\left ( 229, \\quad 0\\right ), \\quad \\left ( 239, \\quad 0\\right ), \\quad \\left ( 241, \\quad 0\\right ), \\quad \\left ( 251, \\quad 0\\right ), \\quad \\left ( 269, \\quad 0\\right ), \\quad \\left ( 271, \\quad 0\\right ), \\quad \\left ( 281, \\quad 0\\right ), \\quad \\left ( 311, \\quad 0\\right ), \\quad \\left ( 331, \\quad 0\\right ), \\quad \\left ( 349, \\quad 0\\right ), \\quad \\left ( 359, \\quad 0\\right ), \\quad \\left ( 379, \\quad 0\\right ), \\quad \\left ( 389, \\quad 0\\right ), \\quad \\left ( 401, \\quad 0\\right ), \\quad \\left ( 409, \\quad 0\\right ), \\quad \\left ( 419, \\quad 0\\right ), \\quad \\left ( 421, \\quad 0\\right ), \\quad \\left ( 431, \\quad 0\\right ), \\quad \\left ( 439, \\quad 0\\right ), \\quad \\left ( 449, \\quad 0\\right ), \\quad \\left ( 461, \\quad 0\\right ), \\quad \\left ( 479, \\quad 0\\right ), \\quad \\left ( 491, \\quad 0\\right ), \\quad \\left ( 499, \\quad 0\\right )\\right ]$$"
      ],
      "text/plain": [
       "[(2, 0), (5, 0), (11, 0), (19, 0), (29, 0), (31, 0), (41, 0), (59, 0), (61, 0)\n",
       ", (71, 0), (79, 0), (89, 0), (101, 0), (109, 0), (131, 0), (139, 0), (149, 0),\n",
       " (151, 0), (179, 0), (181, 0), (191, 0), (199, 0), (211, 0), (229, 0), (239, 0\n",
       "), (241, 0), (251, 0), (269, 0), (271, 0), (281, 0), (311, 0), (331, 0), (349,\n",
       " 0), (359, 0), (379, 0), (389, 0), (401, 0), (409, 0), (419, 0), (421, 0), (43\n",
       "1, 0), (439, 0), (449, 0), (461, 0), (479, 0), (491, 0), (499, 0)]"
      ]
     },
     "execution_count": 58,
     "metadata": {},
     "output_type": "execute_result"
    }
   ],
   "source": [
    "ListaP = [2, 5]\n",
    "\n",
    "for i in sieve.primerange(7, 500):\n",
    "    if (i + 1) % 5 == 0 or (i - 1) % 5 == 0:\n",
    "        ListaP.append(i)\n",
    "\n",
    "[(n, lP(n).doit() % n) for n in ListaP]"
   ]
  },
  {
   "cell_type": "markdown",
   "metadata": {},
   "source": [
    "<b><font size = 3> Dimostrazione: </font></b>"
   ]
  },
  {
   "cell_type": "markdown",
   "metadata": {},
   "source": [
    "Se $P_{i} \\equiv 0 \\mod p$ per qualche indice $i$ la sequenza converge a zero, come abbiamo verificato numericamente in precedenza. Osserviamo che $P_{1}=-4$ e che $P_{5}$ è divisibile per $5$. "
   ]
  },
  {
   "cell_type": "code",
   "execution_count": 59,
   "metadata": {
    "collapsed": false
   },
   "outputs": [
    {
     "name": "stdout",
     "output_type": "stream",
     "text": [
      "P1 = -4\n",
      "P5 = -17966080\n"
     ]
    }
   ],
   "source": [
    "P1 = lP(1).doit()\n",
    "P5 = lP(5).doit()\n",
    "if P5 % 5 == 0: # verifico che P5 sia divisibile per 5\n",
    "    print 'P1 =', P1\n",
    "    print 'P5 =', P5\n",
    "else:\n",
    "    null"
   ]
  },
  {
   "cell_type": "markdown",
   "metadata": {},
   "source": [
    "Questo significa che la sequenza converge quando $p$ vale $2$ o $5$. Altrimenti assumiamo che $p$ sia un numero primo dispari diverso da $5$. Se esiste un intero positivo $x$ tale che $x^2 \\equiv 5 (\\mod p)$, impostiamo $i \\equiv (x+5)$ $4^{-1} (\\mod p)$.\n",
    "Quindi $x=4i-5$ e si ha $(4i-5)^2 \\equiv 5 (\\mod p)$.Tale $i$ esiste se e solo se $5$ è un [residuo quadratico][link]  <b>(mod p)</b>. Per la legge della [reciprocità quadratica][link2] si ha che $(\\frac{5}{p}) (\\frac{p}{5}) = (-1)^{p-1} = 1$, così $5$ è un residuo quadratico <b>(mod p)</b> se e solo se lo è $p$, che è equivalente a $p \\equiv 1 (\\mod 5)$ o $p \\equiv 4 (\\mod 5)$.\n",
    "[link]:https://it.wikipedia.org/wiki/Residuo_quadratico\n",
    "[link2]:https://it.wikipedia.org/wiki/Reciprocit%C3%A0_quadratica"
   ]
  },
  {
   "cell_type": "markdown",
   "metadata": {},
   "source": [
    "La sequenza dei numeri primi congruenti ad $1$ o $4$ ( mod $5$) può essere definita come i numeri primi $p$ che dividono $F_{p-1}$ cioè il numero di Fibonacci con indice $p-1$."
   ]
  },
  {
   "cell_type": "code",
   "execution_count": 60,
   "metadata": {
    "collapsed": false
   },
   "outputs": [],
   "source": [
    "ListaP[0:2] = []"
   ]
  },
  {
   "cell_type": "code",
   "execution_count": 61,
   "metadata": {
    "collapsed": false
   },
   "outputs": [
    {
     "data": {
      "image/png": "[encoded data removed]",
      "text/latex": [
       "$$\\left [ 0, \\quad 1, \\quad 1, \\quad 2, \\quad 3, \\quad 5, \\quad 8, \\quad 13, \\quad 21, \\quad 34, \\quad 55, \\quad 89, \\quad 144, \\quad 233, \\quad 377, \\quad 610, \\quad 987, \\quad 1597, \\quad 2584, \\quad 4181, \\quad 6765, \\quad 10946, \\quad 17711, \\quad 28657, \\quad 46368, \\quad 75025, \\quad 121393, \\quad 196418, \\quad 317811, \\quad 514229, \\quad 832040, \\quad 1346269, \\quad 2178309, \\quad 3524578, \\quad 5702887, \\quad 9227465, \\quad 14930352, \\quad 24157817, \\quad 39088169, \\quad 63245986, \\quad 102334155, \\quad 165580141, \\quad 267914296, \\quad 433494437, \\quad 701408733, \\quad 1134903170, \\quad 1836311903, \\quad 2971215073, \\quad 4807526976, \\quad 7778742049\\right ]$$"
      ],
      "text/plain": [
       "[0, 1, 1, 2, 3, 5, 8, 13, 21, 34, 55, 89, 144, 233, 377, 610, 987, 1597, 2584,\n",
       " 4181, 6765, 10946, 17711, 28657, 46368, 75025, 121393, 196418, 317811, 514229\n",
       ", 832040, 1346269, 2178309, 3524578, 5702887, 9227465, 14930352, 24157817, 390\n",
       "88169, 63245986, 102334155, 165580141, 267914296, 433494437, 701408733, 113490\n",
       "3170, 1836311903, 2971215073, 4807526976, 7778742049]"
      ]
     },
     "execution_count": 61,
     "metadata": {},
     "output_type": "execute_result"
    }
   ],
   "source": [
    "ListaF = [fibonacci(x) for x in range(0, 50)]\n",
    "ListaF"
   ]
  },
  {
   "cell_type": "code",
   "execution_count": 62,
   "metadata": {
    "collapsed": false
   },
   "outputs": [
    {
     "data": {
      "text/plain": [
       "[True, True, True, True, True]"
      ]
     },
     "execution_count": 62,
     "metadata": {},
     "output_type": "execute_result"
    }
   ],
   "source": [
    "ris = [True for j in range(0,5) if ListaF[ListaP[j]-1] % ListaP[j] == 0]\n",
    "ris"
   ]
  },
  {
   "cell_type": "markdown",
   "metadata": {},
   "source": [
    "Abbiamo verificato la connessione tra la sequenza dei numeri primi congruenti a $1$ o $4$ <b>(mod 5)</b> e la sequenza dei numeri di Fibonacci. Questa conessione non ci stupisce visto che i primi due parametri della funzione ipergeometrica sono la [sezione aurea][aurea] e la sua inversa, scalati rispettivamente di $-\\frac{1}{2}$ e $\\frac{1}{2}$.\n",
    "[aurea]:https://it.wikipedia.org/wiki/Sezione_aurea"
   ]
  },
  {
   "cell_type": "markdown",
   "metadata": {},
   "source": [
    "Calcolando il modulo dei Chocolate Numbers con differenti numeri primi, sembra che le sequenze $B_{n}$ e $P_{n}$ diventino periodiche per gli stessi numeri primi. Questo motiva la sequente congettura:"
   ]
  },
  {
   "cell_type": "markdown",
   "metadata": {},
   "source": [
    "<b><font size = 4> Congettura 16: </font></b> La sequenza $B_{n}$ <b>(mod p)</b>, con $p$ numero primo, converge ad una sequenza di tutti zero se solo se $p = 2, 5$ o $p$ $\\equiv$ $\\pm 1$ $( \\mod 5$ $)$."
   ]
  },
  {
   "cell_type": "markdown",
   "metadata": {},
   "source": [
    "Il corollario $6$ prova che $B_{n}$ diventa un numero pari, il corollario $10$ prova che $B_{n}$ diventa divisibile per $11$, il corollario $11$ prova che $B_{n}$ diventa divisibile per $5$ e quindi abbiamo una prova della congettura per $p=2, 5$ e per $p$ uguale al più piccolo numero primo congruo $1$ o $4$ (mod $5$)."
   ]
  }
 ],
 "metadata": {
  "kernelspec": {
   "display_name": "Python 2",
   "language": "python",
   "name": "python2"
  },
  "language_info": {
   "codemirror_mode": {
    "name": "ipython",
    "version": 2
   },
   "file_extension": ".py",
   "mimetype": "text/x-python",
   "name": "python",
   "nbconvert_exporter": "python",
   "pygments_lexer": "ipython2",
   "version": "2.7.13"
  }
 },
 "nbformat": 4,
 "nbformat_minor": 2
}
